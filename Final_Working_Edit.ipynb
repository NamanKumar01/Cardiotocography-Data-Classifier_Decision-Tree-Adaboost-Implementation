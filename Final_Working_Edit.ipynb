{
  "nbformat": 4,
  "nbformat_minor": 0,
  "metadata": {
    "colab": {
      "name": "Minor 1 Final.ipynb",
      "provenance": [],
      "collapsed_sections": []
    },
    "kernelspec": {
      "name": "python3",
      "display_name": "Python 3"
    },
    "accelerator": "GPU"
  },
  "cells": [
    {
      "cell_type": "markdown",
      "metadata": {
        "id": "rDc48gl4YtkU",
        "colab_type": "text"
      },
      "source": [
        "## **Analysis of CTG data to classify fetal distress into it's pathological states.**"
      ]
    },
    {
      "cell_type": "code",
      "metadata": {
        "id": "L2-bp5WUYBef",
        "colab_type": "code",
        "colab": {}
      },
      "source": [
        "import pandas as pd\n",
        "import numpy as np\n",
        "import matplotlib.pyplot as plt\n",
        "import seaborn as sns\n",
        "from sklearn.model_selection import train_test_split, GridSearchCV, cross_val_score\n",
        "from sklearn.metrics import confusion_matrix, accuracy_score, classification_report\n",
        "import warnings\n",
        "warnings.filterwarnings('ignore')"
      ],
      "execution_count": null,
      "outputs": []
    },
    {
      "cell_type": "markdown",
      "metadata": {
        "id": "ho095_GpZN4_",
        "colab_type": "text"
      },
      "source": [
        "Database"
      ]
    },
    {
      "cell_type": "code",
      "metadata": {
        "id": "H2Fhqr4uYurP",
        "colab_type": "code",
        "colab": {
          "base_uri": "https://localhost:8080/",
          "height": 402
        },
        "outputId": "79bc5e40-e6bd-4ffd-9599-68aa99c8b932"
      },
      "source": [
        "ctgdata = pd.read_csv('CTG_Data_Usable.csv')\n",
        "ctgdata.columns = ['AC', 'FM', 'UC', 'DL', 'DS', 'DP', 'LB', 'ASTV', 'MSTV', 'ALTV', 'MLTV', 'Width', 'Min', 'Max', 'Nmax', 'Nzeros', 'Mode', 'Mean', 'Median', 'Variance', 'Tendency', 'NSP']\n",
        "ctgdata"
      ],
      "execution_count": null,
      "outputs": [
        {
          "output_type": "execute_result",
          "data": {
            "text/html": [
              "<div>\n",
              "<style scoped>\n",
              "    .dataframe tbody tr th:only-of-type {\n",
              "        vertical-align: middle;\n",
              "    }\n",
              "\n",
              "    .dataframe tbody tr th {\n",
              "        vertical-align: top;\n",
              "    }\n",
              "\n",
              "    .dataframe thead th {\n",
              "        text-align: right;\n",
              "    }\n",
              "</style>\n",
              "<table border=\"1\" class=\"dataframe\">\n",
              "  <thead>\n",
              "    <tr style=\"text-align: right;\">\n",
              "      <th></th>\n",
              "      <th>AC</th>\n",
              "      <th>FM</th>\n",
              "      <th>UC</th>\n",
              "      <th>DL</th>\n",
              "      <th>DS</th>\n",
              "      <th>DP</th>\n",
              "      <th>LB</th>\n",
              "      <th>ASTV</th>\n",
              "      <th>MSTV</th>\n",
              "      <th>ALTV</th>\n",
              "      <th>MLTV</th>\n",
              "      <th>Width</th>\n",
              "      <th>Min</th>\n",
              "      <th>Max</th>\n",
              "      <th>Nmax</th>\n",
              "      <th>Nzeros</th>\n",
              "      <th>Mode</th>\n",
              "      <th>Mean</th>\n",
              "      <th>Median</th>\n",
              "      <th>Variance</th>\n",
              "      <th>Tendency</th>\n",
              "      <th>NSP</th>\n",
              "    </tr>\n",
              "  </thead>\n",
              "  <tbody>\n",
              "    <tr>\n",
              "      <th>0</th>\n",
              "      <td>0</td>\n",
              "      <td>0</td>\n",
              "      <td>0</td>\n",
              "      <td>0</td>\n",
              "      <td>0</td>\n",
              "      <td>0</td>\n",
              "      <td>120</td>\n",
              "      <td>73</td>\n",
              "      <td>0.5</td>\n",
              "      <td>43</td>\n",
              "      <td>2.4</td>\n",
              "      <td>64</td>\n",
              "      <td>62</td>\n",
              "      <td>126</td>\n",
              "      <td>2</td>\n",
              "      <td>0</td>\n",
              "      <td>120</td>\n",
              "      <td>137</td>\n",
              "      <td>121</td>\n",
              "      <td>73</td>\n",
              "      <td>1</td>\n",
              "      <td>2</td>\n",
              "    </tr>\n",
              "    <tr>\n",
              "      <th>1</th>\n",
              "      <td>4</td>\n",
              "      <td>0</td>\n",
              "      <td>4</td>\n",
              "      <td>2</td>\n",
              "      <td>0</td>\n",
              "      <td>0</td>\n",
              "      <td>132</td>\n",
              "      <td>17</td>\n",
              "      <td>2.1</td>\n",
              "      <td>0</td>\n",
              "      <td>10.4</td>\n",
              "      <td>130</td>\n",
              "      <td>68</td>\n",
              "      <td>198</td>\n",
              "      <td>6</td>\n",
              "      <td>1</td>\n",
              "      <td>141</td>\n",
              "      <td>136</td>\n",
              "      <td>140</td>\n",
              "      <td>12</td>\n",
              "      <td>0</td>\n",
              "      <td>1</td>\n",
              "    </tr>\n",
              "    <tr>\n",
              "      <th>2</th>\n",
              "      <td>2</td>\n",
              "      <td>0</td>\n",
              "      <td>5</td>\n",
              "      <td>2</td>\n",
              "      <td>0</td>\n",
              "      <td>0</td>\n",
              "      <td>133</td>\n",
              "      <td>16</td>\n",
              "      <td>2.1</td>\n",
              "      <td>0</td>\n",
              "      <td>13.4</td>\n",
              "      <td>130</td>\n",
              "      <td>68</td>\n",
              "      <td>198</td>\n",
              "      <td>5</td>\n",
              "      <td>1</td>\n",
              "      <td>141</td>\n",
              "      <td>135</td>\n",
              "      <td>138</td>\n",
              "      <td>13</td>\n",
              "      <td>0</td>\n",
              "      <td>1</td>\n",
              "    </tr>\n",
              "    <tr>\n",
              "      <th>3</th>\n",
              "      <td>2</td>\n",
              "      <td>0</td>\n",
              "      <td>6</td>\n",
              "      <td>2</td>\n",
              "      <td>0</td>\n",
              "      <td>0</td>\n",
              "      <td>134</td>\n",
              "      <td>16</td>\n",
              "      <td>2.4</td>\n",
              "      <td>0</td>\n",
              "      <td>23.0</td>\n",
              "      <td>117</td>\n",
              "      <td>53</td>\n",
              "      <td>170</td>\n",
              "      <td>11</td>\n",
              "      <td>0</td>\n",
              "      <td>137</td>\n",
              "      <td>134</td>\n",
              "      <td>137</td>\n",
              "      <td>13</td>\n",
              "      <td>1</td>\n",
              "      <td>1</td>\n",
              "    </tr>\n",
              "    <tr>\n",
              "      <th>4</th>\n",
              "      <td>4</td>\n",
              "      <td>0</td>\n",
              "      <td>5</td>\n",
              "      <td>0</td>\n",
              "      <td>0</td>\n",
              "      <td>0</td>\n",
              "      <td>132</td>\n",
              "      <td>16</td>\n",
              "      <td>2.4</td>\n",
              "      <td>0</td>\n",
              "      <td>19.9</td>\n",
              "      <td>117</td>\n",
              "      <td>53</td>\n",
              "      <td>170</td>\n",
              "      <td>9</td>\n",
              "      <td>0</td>\n",
              "      <td>137</td>\n",
              "      <td>136</td>\n",
              "      <td>138</td>\n",
              "      <td>11</td>\n",
              "      <td>1</td>\n",
              "      <td>1</td>\n",
              "    </tr>\n",
              "    <tr>\n",
              "      <th>...</th>\n",
              "      <td>...</td>\n",
              "      <td>...</td>\n",
              "      <td>...</td>\n",
              "      <td>...</td>\n",
              "      <td>...</td>\n",
              "      <td>...</td>\n",
              "      <td>...</td>\n",
              "      <td>...</td>\n",
              "      <td>...</td>\n",
              "      <td>...</td>\n",
              "      <td>...</td>\n",
              "      <td>...</td>\n",
              "      <td>...</td>\n",
              "      <td>...</td>\n",
              "      <td>...</td>\n",
              "      <td>...</td>\n",
              "      <td>...</td>\n",
              "      <td>...</td>\n",
              "      <td>...</td>\n",
              "      <td>...</td>\n",
              "      <td>...</td>\n",
              "      <td>...</td>\n",
              "    </tr>\n",
              "    <tr>\n",
              "      <th>2121</th>\n",
              "      <td>0</td>\n",
              "      <td>0</td>\n",
              "      <td>6</td>\n",
              "      <td>0</td>\n",
              "      <td>0</td>\n",
              "      <td>0</td>\n",
              "      <td>140</td>\n",
              "      <td>79</td>\n",
              "      <td>0.2</td>\n",
              "      <td>25</td>\n",
              "      <td>7.2</td>\n",
              "      <td>40</td>\n",
              "      <td>137</td>\n",
              "      <td>177</td>\n",
              "      <td>4</td>\n",
              "      <td>0</td>\n",
              "      <td>153</td>\n",
              "      <td>150</td>\n",
              "      <td>152</td>\n",
              "      <td>2</td>\n",
              "      <td>0</td>\n",
              "      <td>2</td>\n",
              "    </tr>\n",
              "    <tr>\n",
              "      <th>2122</th>\n",
              "      <td>1</td>\n",
              "      <td>0</td>\n",
              "      <td>9</td>\n",
              "      <td>0</td>\n",
              "      <td>0</td>\n",
              "      <td>0</td>\n",
              "      <td>140</td>\n",
              "      <td>78</td>\n",
              "      <td>0.4</td>\n",
              "      <td>22</td>\n",
              "      <td>7.1</td>\n",
              "      <td>66</td>\n",
              "      <td>103</td>\n",
              "      <td>169</td>\n",
              "      <td>6</td>\n",
              "      <td>0</td>\n",
              "      <td>152</td>\n",
              "      <td>148</td>\n",
              "      <td>151</td>\n",
              "      <td>3</td>\n",
              "      <td>1</td>\n",
              "      <td>2</td>\n",
              "    </tr>\n",
              "    <tr>\n",
              "      <th>2123</th>\n",
              "      <td>1</td>\n",
              "      <td>0</td>\n",
              "      <td>7</td>\n",
              "      <td>0</td>\n",
              "      <td>0</td>\n",
              "      <td>0</td>\n",
              "      <td>140</td>\n",
              "      <td>79</td>\n",
              "      <td>0.4</td>\n",
              "      <td>20</td>\n",
              "      <td>6.1</td>\n",
              "      <td>67</td>\n",
              "      <td>103</td>\n",
              "      <td>170</td>\n",
              "      <td>5</td>\n",
              "      <td>0</td>\n",
              "      <td>153</td>\n",
              "      <td>148</td>\n",
              "      <td>152</td>\n",
              "      <td>4</td>\n",
              "      <td>1</td>\n",
              "      <td>2</td>\n",
              "    </tr>\n",
              "    <tr>\n",
              "      <th>2124</th>\n",
              "      <td>1</td>\n",
              "      <td>0</td>\n",
              "      <td>9</td>\n",
              "      <td>0</td>\n",
              "      <td>0</td>\n",
              "      <td>0</td>\n",
              "      <td>140</td>\n",
              "      <td>78</td>\n",
              "      <td>0.4</td>\n",
              "      <td>27</td>\n",
              "      <td>7.0</td>\n",
              "      <td>66</td>\n",
              "      <td>103</td>\n",
              "      <td>169</td>\n",
              "      <td>6</td>\n",
              "      <td>0</td>\n",
              "      <td>152</td>\n",
              "      <td>147</td>\n",
              "      <td>151</td>\n",
              "      <td>4</td>\n",
              "      <td>1</td>\n",
              "      <td>2</td>\n",
              "    </tr>\n",
              "    <tr>\n",
              "      <th>2125</th>\n",
              "      <td>1</td>\n",
              "      <td>1</td>\n",
              "      <td>5</td>\n",
              "      <td>0</td>\n",
              "      <td>0</td>\n",
              "      <td>0</td>\n",
              "      <td>142</td>\n",
              "      <td>74</td>\n",
              "      <td>0.4</td>\n",
              "      <td>36</td>\n",
              "      <td>5.0</td>\n",
              "      <td>42</td>\n",
              "      <td>117</td>\n",
              "      <td>159</td>\n",
              "      <td>2</td>\n",
              "      <td>1</td>\n",
              "      <td>145</td>\n",
              "      <td>143</td>\n",
              "      <td>145</td>\n",
              "      <td>1</td>\n",
              "      <td>0</td>\n",
              "      <td>1</td>\n",
              "    </tr>\n",
              "  </tbody>\n",
              "</table>\n",
              "<p>2126 rows × 22 columns</p>\n",
              "</div>"
            ],
            "text/plain": [
              "      AC  FM  UC  DL  DS  DP  ...  Mode  Mean  Median  Variance  Tendency  NSP\n",
              "0      0   0   0   0   0   0  ...   120   137     121        73         1    2\n",
              "1      4   0   4   2   0   0  ...   141   136     140        12         0    1\n",
              "2      2   0   5   2   0   0  ...   141   135     138        13         0    1\n",
              "3      2   0   6   2   0   0  ...   137   134     137        13         1    1\n",
              "4      4   0   5   0   0   0  ...   137   136     138        11         1    1\n",
              "...   ..  ..  ..  ..  ..  ..  ...   ...   ...     ...       ...       ...  ...\n",
              "2121   0   0   6   0   0   0  ...   153   150     152         2         0    2\n",
              "2122   1   0   9   0   0   0  ...   152   148     151         3         1    2\n",
              "2123   1   0   7   0   0   0  ...   153   148     152         4         1    2\n",
              "2124   1   0   9   0   0   0  ...   152   147     151         4         1    2\n",
              "2125   1   1   5   0   0   0  ...   145   143     145         1         0    1\n",
              "\n",
              "[2126 rows x 22 columns]"
            ]
          },
          "metadata": {
            "tags": []
          },
          "execution_count": 37
        }
      ]
    },
    {
      "cell_type": "code",
      "metadata": {
        "id": "FCwep82MZLIF",
        "colab_type": "code",
        "colab": {
          "base_uri": "https://localhost:8080/",
          "height": 492
        },
        "outputId": "ac5ca5d2-914a-4905-f855-cdd8ee6cc24f"
      },
      "source": [
        "ctgdata.info()"
      ],
      "execution_count": null,
      "outputs": [
        {
          "output_type": "stream",
          "text": [
            "<class 'pandas.core.frame.DataFrame'>\n",
            "RangeIndex: 2126 entries, 0 to 2125\n",
            "Data columns (total 22 columns):\n",
            "AC          2126 non-null int64\n",
            "FM          2126 non-null int64\n",
            "UC          2126 non-null int64\n",
            "DL          2126 non-null int64\n",
            "DS          2126 non-null int64\n",
            "DP          2126 non-null int64\n",
            "LB          2126 non-null int64\n",
            "ASTV        2126 non-null int64\n",
            "MSTV        2126 non-null float64\n",
            "ALTV        2126 non-null int64\n",
            "MLTV        2126 non-null float64\n",
            "Width       2126 non-null int64\n",
            "Min         2126 non-null int64\n",
            "Max         2126 non-null int64\n",
            "Nmax        2126 non-null int64\n",
            "Nzeros      2126 non-null int64\n",
            "Mode        2126 non-null int64\n",
            "Mean        2126 non-null int64\n",
            "Median      2126 non-null int64\n",
            "Variance    2126 non-null int64\n",
            "Tendency    2126 non-null int64\n",
            "NSP         2126 non-null int64\n",
            "dtypes: float64(2), int64(20)\n",
            "memory usage: 365.5 KB\n"
          ],
          "name": "stdout"
        }
      ]
    },
    {
      "cell_type": "code",
      "metadata": {
        "id": "pyBaQK3oZb4q",
        "colab_type": "code",
        "colab": {}
      },
      "source": [
        "X = ctgdata.drop(['NSP'], axis=1)\n",
        "y = ctgdata['NSP']"
      ],
      "execution_count": null,
      "outputs": []
    },
    {
      "cell_type": "code",
      "metadata": {
        "id": "HKGPzM1bZuD1",
        "colab_type": "code",
        "colab": {
          "base_uri": "https://localhost:8080/",
          "height": 34
        },
        "outputId": "ca40457f-f775-4056-8842-da722b6293e7"
      },
      "source": [
        "X.shape"
      ],
      "execution_count": null,
      "outputs": [
        {
          "output_type": "execute_result",
          "data": {
            "text/plain": [
              "(2126, 21)"
            ]
          },
          "metadata": {
            "tags": []
          },
          "execution_count": 40
        }
      ]
    },
    {
      "cell_type": "code",
      "metadata": {
        "id": "JTgPvdzrZvZr",
        "colab_type": "code",
        "colab": {
          "base_uri": "https://localhost:8080/",
          "height": 34
        },
        "outputId": "d3d313ef-525e-4635-a686-baee8baa96cf"
      },
      "source": [
        "y.shape"
      ],
      "execution_count": null,
      "outputs": [
        {
          "output_type": "execute_result",
          "data": {
            "text/plain": [
              "(2126,)"
            ]
          },
          "metadata": {
            "tags": []
          },
          "execution_count": 41
        }
      ]
    },
    {
      "cell_type": "markdown",
      "metadata": {
        "id": "X5mDXv9gZ7rz",
        "colab_type": "text"
      },
      "source": [
        "**Histogram of attributes from which continous data was gleaned originally.**"
      ]
    },
    {
      "cell_type": "code",
      "metadata": {
        "id": "m69g0AJvZzUP",
        "colab_type": "code",
        "colab": {
          "base_uri": "https://localhost:8080/",
          "height": 369
        },
        "outputId": "d795b43c-a291-481b-9446-51492103996c"
      },
      "source": [
        "ctgdata.iloc[:, 7:11].hist()"
      ],
      "execution_count": null,
      "outputs": [
        {
          "output_type": "execute_result",
          "data": {
            "text/plain": [
              "array([[<matplotlib.axes._subplots.AxesSubplot object at 0x7f5b0db85400>,\n",
              "        <matplotlib.axes._subplots.AxesSubplot object at 0x7f5b0db27cc0>],\n",
              "       [<matplotlib.axes._subplots.AxesSubplot object at 0x7f5b0dadae10>,\n",
              "        <matplotlib.axes._subplots.AxesSubplot object at 0x7f5b0da8cf60>]],\n",
              "      dtype=object)"
            ]
          },
          "metadata": {
            "tags": []
          },
          "execution_count": 42
        },
        {
          "output_type": "display_data",
          "data": {
            "image/png": "[encoded data removed]",
            "text/plain": [
              "<Figure size 432x288 with 4 Axes>"
            ]
          },
          "metadata": {
            "tags": []
          }
        }
      ]
    },
    {
      "cell_type": "code",
      "metadata": {
        "id": "94B18DvPaJUE",
        "colab_type": "code",
        "colab": {}
      },
      "source": [
        "corr=ctgdata[['AC', 'FM', 'UC', 'DL', 'DS', 'DP', 'LB', 'ASTV', 'MSTV', 'ALTV', 'MLTV', 'Width', 'Min', 'Max', 'Nmax', 'Nzeros', 'Mode', 'Mean', 'Median', 'Variance', 'Tendency', 'NSP']].corr()"
      ],
      "execution_count": null,
      "outputs": []
    },
    {
      "cell_type": "code",
      "metadata": {
        "id": "8K5CoPKkaQsQ",
        "colab_type": "code",
        "colab": {
          "base_uri": "https://localhost:8080/",
          "height": 901
        },
        "outputId": "c28e63ac-5491-4251-b04d-0ce909cfd38d"
      },
      "source": [
        "fig, ax = plt.subplots(figsize=(16,16))\n",
        "sns.heatmap(corr, vmax=1, square=True,annot=True, linewidths= 2, ax=ax , cbar=True)\n",
        "plt.show()"
      ],
      "execution_count": null,
      "outputs": [
        {
          "output_type": "display_data",
          "data": {
            "image/png": "[encoded data removed]",
            "text/plain": [
              "<Figure size 1152x1152 with 2 Axes>"
            ]
          },
          "metadata": {
            "tags": []
          }
        }
      ]
    },
    {
      "cell_type": "markdown",
      "metadata": {
        "id": "6Aa7eKavapx0",
        "colab_type": "text"
      },
      "source": [
        "## **Naive Bayes Algorithm**"
      ]
    },
    {
      "cell_type": "code",
      "metadata": {
        "id": "FXbSAC1KaVju",
        "colab_type": "code",
        "colab": {}
      },
      "source": [
        "from sklearn.naive_bayes import GaussianNB"
      ],
      "execution_count": null,
      "outputs": []
    },
    {
      "cell_type": "code",
      "metadata": {
        "id": "34ooeRZya4TX",
        "colab_type": "code",
        "colab": {}
      },
      "source": [
        "x_train, x_test, y_train, y_test = train_test_split(X, y, test_size=0.25, random_state=42)"
      ],
      "execution_count": null,
      "outputs": []
    },
    {
      "cell_type": "code",
      "metadata": {
        "id": "8BjzfKwkbBVc",
        "colab_type": "code",
        "colab": {
          "base_uri": "https://localhost:8080/",
          "height": 34
        },
        "outputId": "2dac2e7d-b0b3-4b1a-c637-14b5ed5211e2"
      },
      "source": [
        "model = GaussianNB()\n",
        "model.fit(x_train,y_train)"
      ],
      "execution_count": null,
      "outputs": [
        {
          "output_type": "execute_result",
          "data": {
            "text/plain": [
              "GaussianNB(priors=None, var_smoothing=1e-09)"
            ]
          },
          "metadata": {
            "tags": []
          },
          "execution_count": 47
        }
      ]
    },
    {
      "cell_type": "code",
      "metadata": {
        "id": "ZK4D6qpIbDQs",
        "colab_type": "code",
        "colab": {
          "base_uri": "https://localhost:8080/",
          "height": 70
        },
        "outputId": "b0b425ed-446d-48a1-b3a8-4caea921f180"
      },
      "source": [
        "predict_train = model.predict(x_train)\n",
        "print('Target on training data',predict_train[:100]) "
      ],
      "execution_count": null,
      "outputs": [
        {
          "output_type": "stream",
          "text": [
            "Target on training data [2 1 1 1 1 2 2 2 2 1 1 2 1 1 3 2 1 3 1 2 1 2 3 3 1 1 1 1 1 2 1 1 1 2 1 1 2\n",
            " 1 2 1 1 1 1 1 2 2 2 3 1 1 2 2 1 2 2 1 1 1 2 1 1 1 2 2 1 1 1 1 1 2 2 1 1 1\n",
            " 2 1 1 2 2 2 1 2 1 3 2 2 1 1 2 1 1 1 1 1 1 1 1 2 1 2]\n"
          ],
          "name": "stdout"
        }
      ]
    },
    {
      "cell_type": "code",
      "metadata": {
        "id": "g_B_kK27cIyd",
        "colab_type": "code",
        "colab": {
          "base_uri": "https://localhost:8080/",
          "height": 34
        },
        "outputId": "5e08107d-360d-4546-84b7-0de2d3fc635e"
      },
      "source": [
        "accuracy_train = accuracy_score(y_train,predict_train)\n",
        "print('accuracy_score on training dataset : ', accuracy_train)"
      ],
      "execution_count": null,
      "outputs": [
        {
          "output_type": "stream",
          "text": [
            "accuracy_score on training dataset :  0.7885821831869511\n"
          ],
          "name": "stdout"
        }
      ]
    },
    {
      "cell_type": "code",
      "metadata": {
        "id": "EmKuWQkkckHe",
        "colab_type": "code",
        "colab": {
          "base_uri": "https://localhost:8080/",
          "height": 281
        },
        "outputId": "aa7b7fb1-313f-4088-bbb5-24ed027a1d53"
      },
      "source": [
        "predict_test = model.predict(x_test)\n",
        "print('Target on testing data',predict_test) "
      ],
      "execution_count": null,
      "outputs": [
        {
          "output_type": "stream",
          "text": [
            "Target on testing data [1 1 1 1 3 2 1 2 2 2 1 3 1 1 1 2 3 1 2 1 1 1 2 2 1 2 3 2 1 1 3 1 1 2 3 1 1\n",
            " 3 2 2 1 2 1 1 1 2 1 2 1 1 1 1 2 2 2 1 2 2 2 1 2 1 2 1 2 1 2 1 1 1 1 1 1 3\n",
            " 1 2 1 2 1 3 1 1 1 2 2 1 1 1 2 2 2 1 1 2 2 1 1 2 2 1 2 1 1 2 1 2 2 1 2 3 2\n",
            " 2 1 2 2 2 1 1 2 3 2 2 1 1 3 3 3 1 2 1 3 1 1 2 1 1 1 1 2 2 2 1 3 1 3 1 1 2\n",
            " 1 2 1 1 2 1 1 1 2 2 1 1 1 2 1 2 1 2 2 1 2 1 1 1 1 1 1 1 1 1 1 1 2 1 1 3 2\n",
            " 1 1 1 3 2 2 2 3 2 1 3 1 1 1 2 2 1 1 2 2 1 3 1 1 1 1 1 1 1 1 1 1 3 1 1 1 2\n",
            " 1 1 1 1 2 1 1 2 2 3 2 1 3 2 2 1 1 1 1 1 1 1 2 3 1 1 3 2 1 1 2 1 2 1 1 1 1\n",
            " 2 2 2 1 1 2 1 2 1 1 1 1 1 2 1 1 1 1 1 2 1 2 3 1 2 1 2 2 1 1 1 1 1 1 2 1 3\n",
            " 3 1 3 1 1 1 1 1 3 1 2 1 1 2 1 1 1 1 2 3 1 3 1 1 1 1 1 1 2 2 1 1 2 1 1 1 1\n",
            " 1 2 2 1 1 1 1 2 2 2 3 2 3 1 2 2 1 2 1 1 2 1 1 1 1 1 1 1 1 1 1 1 3 2 2 1 1\n",
            " 1 1 1 1 1 2 1 1 1 3 2 1 1 1 1 1 2 1 2 1 2 1 2 1 1 2 1 1 1 1 1 2 2 2 1 1 2\n",
            " 1 1 1 2 1 2 1 1 1 1 2 1 1 1 2 1 1 2 2 1 2 1 1 2 1 1 1 2 2 2 1 1 3 2 1 2 1\n",
            " 2 1 1 1 1 1 1 1 2 1 2 3 2 1 2 1 1 1 3 1 1 1 1 2 1 2 1 1 1 2 1 1 1 2 1 3 2\n",
            " 2 1 3 1 1 1 2 1 2 2 1 1 1 2 1 1 2 1 1 1 1 2 1 3 2 2 3 1 3 2 1 1 1 1 1 1 1\n",
            " 1 1 2 2 1 2 2 2 1 1 1 1 1 1]\n"
          ],
          "name": "stdout"
        }
      ]
    },
    {
      "cell_type": "markdown",
      "metadata": {
        "id": "O3VJcV1PcpQ9",
        "colab_type": "text"
      },
      "source": [
        "**ACCURACY OF NAIVE BAYES ALGO**"
      ]
    },
    {
      "cell_type": "code",
      "metadata": {
        "id": "B0im70fncm92",
        "colab_type": "code",
        "colab": {
          "base_uri": "https://localhost:8080/",
          "height": 34
        },
        "outputId": "cec9b304-ae33-4c97-fad6-4aa94f9642fa"
      },
      "source": [
        "accuracy_test = accuracy_score(y_test,predict_test)\n",
        "print('accuracy_score on testing dataset : ', accuracy_test)"
      ],
      "execution_count": null,
      "outputs": [
        {
          "output_type": "stream",
          "text": [
            "accuracy_score on testing dataset :  0.7894736842105263\n"
          ],
          "name": "stdout"
        }
      ]
    },
    {
      "cell_type": "code",
      "metadata": {
        "id": "Fr3LrlubslSa",
        "colab_type": "code",
        "colab": {}
      },
      "source": [
        "scores = cross_val_score(model,x_train,y_train,cv = 10)"
      ],
      "execution_count": null,
      "outputs": []
    },
    {
      "cell_type": "code",
      "metadata": {
        "id": "9-vf6H77s2D1",
        "colab_type": "code",
        "colab": {
          "base_uri": "https://localhost:8080/",
          "height": 52
        },
        "outputId": "c95d4940-16ff-4f14-a066-252113e7d19d"
      },
      "source": [
        "print(scores)"
      ],
      "execution_count": null,
      "outputs": [
        {
          "output_type": "stream",
          "text": [
            "[0.73913043 0.80124224 0.775      0.79874214 0.80503145 0.74842767\n",
            " 0.79245283 0.81132075 0.80503145 0.82911392]\n"
          ],
          "name": "stdout"
        }
      ]
    },
    {
      "cell_type": "code",
      "metadata": {
        "id": "iBUznuXGs6Pu",
        "colab_type": "code",
        "colab": {
          "base_uri": "https://localhost:8080/",
          "height": 34
        },
        "outputId": "0d012400-437c-4f24-994b-948b7138aca8"
      },
      "source": [
        "print(scores.mean())"
      ],
      "execution_count": null,
      "outputs": [
        {
          "output_type": "stream",
          "text": [
            "0.7905492884166262\n"
          ],
          "name": "stdout"
        }
      ]
    },
    {
      "cell_type": "code",
      "metadata": {
        "id": "JYpUcHb6s7uS",
        "colab_type": "code",
        "colab": {
          "base_uri": "https://localhost:8080/",
          "height": 34
        },
        "outputId": "35d8a22b-a18e-4734-a4b6-4a2339459953"
      },
      "source": [
        "print(scores.std())"
      ],
      "execution_count": null,
      "outputs": [
        {
          "output_type": "stream",
          "text": [
            "0.026801390822381296\n"
          ],
          "name": "stdout"
        }
      ]
    },
    {
      "cell_type": "markdown",
      "metadata": {
        "id": "SniDrLP2c-GP",
        "colab_type": "text"
      },
      "source": [
        "### **KNN Algorithm**"
      ]
    },
    {
      "cell_type": "code",
      "metadata": {
        "id": "N3FFzs2qiL1e",
        "colab_type": "code",
        "colab": {}
      },
      "source": [
        "from sklearn.neighbors import KNeighborsClassifier"
      ],
      "execution_count": null,
      "outputs": []
    },
    {
      "cell_type": "code",
      "metadata": {
        "id": "l5u1QiaIcuBl",
        "colab_type": "code",
        "colab": {}
      },
      "source": [
        "x_train, x_test, y_train, y_test = train_test_split(X, y, test_size=0.25, random_state=42)"
      ],
      "execution_count": null,
      "outputs": []
    },
    {
      "cell_type": "code",
      "metadata": {
        "id": "qcBI5l9oeDdX",
        "colab_type": "code",
        "colab": {}
      },
      "source": [
        "KNNCTG = KNeighborsClassifier(4)"
      ],
      "execution_count": null,
      "outputs": []
    },
    {
      "cell_type": "code",
      "metadata": {
        "id": "oyY72Nhlecwb",
        "colab_type": "code",
        "colab": {
          "base_uri": "https://localhost:8080/",
          "height": 70
        },
        "outputId": "42ebf43e-fb53-40af-fae0-2d6f71a8c5c2"
      },
      "source": [
        "KNNCTG.fit(x_train, y_train)"
      ],
      "execution_count": null,
      "outputs": [
        {
          "output_type": "execute_result",
          "data": {
            "text/plain": [
              "KNeighborsClassifier(algorithm='auto', leaf_size=30, metric='minkowski',\n",
              "                     metric_params=None, n_jobs=None, n_neighbors=4, p=2,\n",
              "                     weights='uniform')"
            ]
          },
          "metadata": {
            "tags": []
          },
          "execution_count": 59
        }
      ]
    },
    {
      "cell_type": "code",
      "metadata": {
        "id": "dTB7AyFQiZ5G",
        "colab_type": "code",
        "colab": {
          "base_uri": "https://localhost:8080/",
          "height": 34
        },
        "outputId": "84ce8c22-39db-499e-a5e8-b4c7ee877752"
      },
      "source": [
        "KNNCTG.predict(x_test[:10])"
      ],
      "execution_count": null,
      "outputs": [
        {
          "output_type": "execute_result",
          "data": {
            "text/plain": [
              "array([1, 1, 1, 1, 1, 3, 1, 3, 2, 2])"
            ]
          },
          "metadata": {
            "tags": []
          },
          "execution_count": 60
        }
      ]
    },
    {
      "cell_type": "markdown",
      "metadata": {
        "id": "59JA-5tjiihl",
        "colab_type": "text"
      },
      "source": [
        "**ACCURACY OF KNN ALGORITHM**"
      ]
    },
    {
      "cell_type": "code",
      "metadata": {
        "id": "2cUqM5sEidlx",
        "colab_type": "code",
        "colab": {
          "base_uri": "https://localhost:8080/",
          "height": 34
        },
        "outputId": "1cbcd358-0c6b-4e78-c418-110ca82e89ad"
      },
      "source": [
        "KNNCTG.score(x_test, y_test)"
      ],
      "execution_count": null,
      "outputs": [
        {
          "output_type": "execute_result",
          "data": {
            "text/plain": [
              "0.8872180451127819"
            ]
          },
          "metadata": {
            "tags": []
          },
          "execution_count": 61
        }
      ]
    },
    {
      "cell_type": "code",
      "metadata": {
        "id": "ewGtouHAigvq",
        "colab_type": "code",
        "colab": {}
      },
      "source": [
        "scores = cross_val_score(KNNCTG,x_train,y_train,cv = 10)"
      ],
      "execution_count": null,
      "outputs": []
    },
    {
      "cell_type": "code",
      "metadata": {
        "id": "zAGmwj8Iitqe",
        "colab_type": "code",
        "colab": {
          "base_uri": "https://localhost:8080/",
          "height": 52
        },
        "outputId": "241e8fd1-b703-4347-c854-403cea898726"
      },
      "source": [
        "print(scores)"
      ],
      "execution_count": null,
      "outputs": [
        {
          "output_type": "stream",
          "text": [
            "[0.86956522 0.9068323  0.91875    0.89937107 0.88679245 0.87421384\n",
            " 0.89308176 0.88679245 0.88050314 0.90506329]\n"
          ],
          "name": "stdout"
        }
      ]
    },
    {
      "cell_type": "code",
      "metadata": {
        "id": "bSUNMx4wi0P3",
        "colab_type": "code",
        "colab": {
          "base_uri": "https://localhost:8080/",
          "height": 34
        },
        "outputId": "70b4e324-3e1a-41cc-a329-1d739a86d97d"
      },
      "source": [
        "print(scores.mean())"
      ],
      "execution_count": null,
      "outputs": [
        {
          "output_type": "stream",
          "text": [
            "0.8920965523648323\n"
          ],
          "name": "stdout"
        }
      ]
    },
    {
      "cell_type": "code",
      "metadata": {
        "id": "UrQRdRG1jl7w",
        "colab_type": "code",
        "colab": {
          "base_uri": "https://localhost:8080/",
          "height": 34
        },
        "outputId": "794ffa0b-092b-4c4f-8f51-8ee51b9021e1"
      },
      "source": [
        "print(scores.std())"
      ],
      "execution_count": null,
      "outputs": [
        {
          "output_type": "stream",
          "text": [
            "0.01472311328831412\n"
          ],
          "name": "stdout"
        }
      ]
    },
    {
      "cell_type": "markdown",
      "metadata": {
        "id": "5N6FKC0Xjt1W",
        "colab_type": "text"
      },
      "source": [
        "### **Decision Tree Algorithm 1**"
      ]
    },
    {
      "cell_type": "code",
      "metadata": {
        "id": "DQHRizfZjoGc",
        "colab_type": "code",
        "colab": {}
      },
      "source": [
        "from sklearn import tree\n",
        "from sklearn.tree import DecisionTreeClassifier"
      ],
      "execution_count": null,
      "outputs": []
    },
    {
      "cell_type": "code",
      "metadata": {
        "id": "YDJ12ci6kJd8",
        "colab_type": "code",
        "colab": {}
      },
      "source": [
        "x_train, x_test, y_train, y_test = train_test_split(X, y, test_size=0.25, random_state=42)"
      ],
      "execution_count": null,
      "outputs": []
    },
    {
      "cell_type": "code",
      "metadata": {
        "id": "WO20XoCRkRfy",
        "colab_type": "code",
        "colab": {
          "base_uri": "https://localhost:8080/",
          "height": 34
        },
        "outputId": "d7f8bde8-9308-4c6c-8a7a-c8e6cae8762c"
      },
      "source": [
        "dectree = DecisionTreeClassifier()\n",
        "dectree.fit(x_train,y_train)\n",
        "clftree = GridSearchCV(dectree, \n",
        "                  {'criterion': [\"gini\",\"entropy\"],\n",
        "                   'max_depth':[5,6,7,8,10],\n",
        "                    'min_samples_split':[2,3,4],\n",
        "                    'max_leaf_nodes':[3,4,5,6,7,8]})\n",
        "clftree.fit(x_train,y_train)\n",
        "print(clftree.best_params_)"
      ],
      "execution_count": null,
      "outputs": [
        {
          "output_type": "stream",
          "text": [
            "{'criterion': 'gini', 'max_depth': 5, 'max_leaf_nodes': 8, 'min_samples_split': 2}\n"
          ],
          "name": "stdout"
        }
      ]
    },
    {
      "cell_type": "code",
      "metadata": {
        "id": "OFVsYyvllK48",
        "colab_type": "code",
        "colab": {
          "base_uri": "https://localhost:8080/",
          "height": 351
        },
        "outputId": "61f09d3e-23a1-4740-dbee-239335503d4e"
      },
      "source": [
        "clftree.fit(x_train,y_train)"
      ],
      "execution_count": null,
      "outputs": [
        {
          "output_type": "execute_result",
          "data": {
            "text/plain": [
              "GridSearchCV(cv='warn', error_score='raise-deprecating',\n",
              "             estimator=DecisionTreeClassifier(class_weight=None,\n",
              "                                              criterion='gini', max_depth=None,\n",
              "                                              max_features=None,\n",
              "                                              max_leaf_nodes=None,\n",
              "                                              min_impurity_decrease=0.0,\n",
              "                                              min_impurity_split=None,\n",
              "                                              min_samples_leaf=1,\n",
              "                                              min_samples_split=2,\n",
              "                                              min_weight_fraction_leaf=0.0,\n",
              "                                              presort=False, random_state=None,\n",
              "                                              splitter='best'),\n",
              "             iid='warn', n_jobs=None,\n",
              "             param_grid={'criterion': ['gini', 'entropy'],\n",
              "                         'max_depth': [5, 6, 7, 8, 10],\n",
              "                         'max_leaf_nodes': [3, 4, 5, 6, 7, 8],\n",
              "                         'min_samples_split': [2, 3, 4]},\n",
              "             pre_dispatch='2*n_jobs', refit=True, return_train_score=False,\n",
              "             scoring=None, verbose=0)"
            ]
          },
          "metadata": {
            "tags": []
          },
          "execution_count": 71
        }
      ]
    },
    {
      "cell_type": "markdown",
      "metadata": {
        "id": "tnfHhpuLkmD9",
        "colab_type": "text"
      },
      "source": [
        "**ACCURACY OF DECISION TREE**"
      ]
    },
    {
      "cell_type": "code",
      "metadata": {
        "id": "YEU6vDuckTTy",
        "colab_type": "code",
        "colab": {
          "base_uri": "https://localhost:8080/",
          "height": 34
        },
        "outputId": "91feaab1-b044-4a99-f403-62846bece930"
      },
      "source": [
        "print(clftree.best_score_)"
      ],
      "execution_count": null,
      "outputs": [
        {
          "output_type": "stream",
          "text": [
            "0.9109159347553325\n"
          ],
          "name": "stdout"
        }
      ]
    },
    {
      "cell_type": "code",
      "metadata": {
        "id": "3ig8WVcrq7GN",
        "colab_type": "code",
        "colab": {}
      },
      "source": [
        "scores = cross_val_score(clftree,x_train,y_train,cv = 10)"
      ],
      "execution_count": null,
      "outputs": []
    },
    {
      "cell_type": "code",
      "metadata": {
        "id": "e4cPrcQ8q-aH",
        "colab_type": "code",
        "colab": {
          "base_uri": "https://localhost:8080/",
          "height": 52
        },
        "outputId": "c8ce70bb-596d-4d0f-f050-79846faeb9c7"
      },
      "source": [
        "print(scores)"
      ],
      "execution_count": null,
      "outputs": [
        {
          "output_type": "stream",
          "text": [
            "[0.90062112 0.91304348 0.93125    0.90566038 0.89937107 0.89937107\n",
            " 0.90566038 0.91194969 0.90566038 0.94936709]\n"
          ],
          "name": "stdout"
        }
      ]
    },
    {
      "cell_type": "code",
      "metadata": {
        "id": "mZlgo__4q_pC",
        "colab_type": "code",
        "colab": {
          "base_uri": "https://localhost:8080/",
          "height": 34
        },
        "outputId": "fa1d7850-0fb5-4444-cba9-1f868b9df6ed"
      },
      "source": [
        "print(scores.mean())"
      ],
      "execution_count": null,
      "outputs": [
        {
          "output_type": "stream",
          "text": [
            "0.912195464085573\n"
          ],
          "name": "stdout"
        }
      ]
    },
    {
      "cell_type": "code",
      "metadata": {
        "id": "7BOAo6TlrFOr",
        "colab_type": "code",
        "colab": {
          "base_uri": "https://localhost:8080/",
          "height": 34
        },
        "outputId": "0d7b1ebe-c0f4-4e0b-95c2-0e86d7d86d1d"
      },
      "source": [
        "print(scores.std())"
      ],
      "execution_count": null,
      "outputs": [
        {
          "output_type": "stream",
          "text": [
            "0.01528594882739077\n"
          ],
          "name": "stdout"
        }
      ]
    },
    {
      "cell_type": "code",
      "metadata": {
        "id": "vIV50dvNBPiH",
        "colab_type": "code",
        "colab": {}
      },
      "source": [
        "y_pred=clftree.predict(x_test)"
      ],
      "execution_count": null,
      "outputs": []
    },
    {
      "cell_type": "code",
      "metadata": {
        "id": "QRq9e3OCtDxO",
        "colab_type": "code",
        "colab": {
          "base_uri": "https://localhost:8080/",
          "height": 210
        },
        "outputId": "94d5fe0b-a86e-45b7-acbc-4503f6a71544"
      },
      "source": [
        "print(\"CLASSIFICATION REPORT \\n\",classification_report(y_pred,y_test))"
      ],
      "execution_count": null,
      "outputs": [
        {
          "output_type": "stream",
          "text": [
            "CLASSIFICATION REPORT \n",
            "               precision    recall  f1-score   support\n",
            "\n",
            "           1       0.97      0.94      0.96       427\n",
            "           2       0.70      0.93      0.80        61\n",
            "           3       0.97      0.82      0.89        44\n",
            "\n",
            "    accuracy                           0.93       532\n",
            "   macro avg       0.88      0.90      0.88       532\n",
            "weighted avg       0.94      0.93      0.93       532\n",
            "\n"
          ],
          "name": "stdout"
        }
      ]
    },
    {
      "cell_type": "markdown",
      "metadata": {
        "id": "C14__LBglYxq",
        "colab_type": "text"
      },
      "source": [
        "## **Decision Tree Algorithm 2**"
      ]
    },
    {
      "cell_type": "code",
      "metadata": {
        "id": "iHo5AXGllhwV",
        "colab_type": "code",
        "colab": {}
      },
      "source": [
        "x_train, x_test, y_train, y_test = train_test_split(X, y, test_size=0.25, random_state=42)"
      ],
      "execution_count": null,
      "outputs": []
    },
    {
      "cell_type": "code",
      "metadata": {
        "id": "P3F7qQ2mlA5k",
        "colab_type": "code",
        "colab": {}
      },
      "source": [
        "tree_model = tree.DecisionTreeClassifier(criterion='gini', max_depth=4,\n",
        "                                        min_samples_split=2)"
      ],
      "execution_count": null,
      "outputs": []
    },
    {
      "cell_type": "code",
      "metadata": {
        "id": "wk5fcrGalfDq",
        "colab_type": "code",
        "colab": {
          "base_uri": "https://localhost:8080/",
          "height": 122
        },
        "outputId": "21c6e284-348d-424d-fd64-f0843ae137e5"
      },
      "source": [
        "tree_model.fit(x_train,y_train)"
      ],
      "execution_count": null,
      "outputs": [
        {
          "output_type": "execute_result",
          "data": {
            "text/plain": [
              "DecisionTreeClassifier(class_weight=None, criterion='gini', max_depth=4,\n",
              "                       max_features=None, max_leaf_nodes=None,\n",
              "                       min_impurity_decrease=0.0, min_impurity_split=None,\n",
              "                       min_samples_leaf=1, min_samples_split=2,\n",
              "                       min_weight_fraction_leaf=0.0, presort=False,\n",
              "                       random_state=None, splitter='best')"
            ]
          },
          "metadata": {
            "tags": []
          },
          "execution_count": 83
        }
      ]
    },
    {
      "cell_type": "markdown",
      "metadata": {
        "id": "JPKO6SJEmMso",
        "colab_type": "text"
      },
      "source": [
        "**ACCURACY OF DECISION TREE**"
      ]
    },
    {
      "cell_type": "code",
      "metadata": {
        "id": "zrp3MK2EltwK",
        "colab_type": "code",
        "colab": {
          "base_uri": "https://localhost:8080/",
          "height": 34
        },
        "outputId": "f33ee29b-c2bc-41c6-a12a-5186583930b3"
      },
      "source": [
        "print(accuracy_score(y_test,y_pred))"
      ],
      "execution_count": null,
      "outputs": [
        {
          "output_type": "stream",
          "text": [
            "0.9304511278195489\n"
          ],
          "name": "stdout"
        }
      ]
    },
    {
      "cell_type": "code",
      "metadata": {
        "id": "HrZXLX2CtWwr",
        "colab_type": "code",
        "colab": {}
      },
      "source": [
        "scores = cross_val_score(tree_model,x_train,y_train,cv = 10)"
      ],
      "execution_count": null,
      "outputs": []
    },
    {
      "cell_type": "code",
      "metadata": {
        "id": "6C4plKi6tbMb",
        "colab_type": "code",
        "colab": {
          "base_uri": "https://localhost:8080/",
          "height": 52
        },
        "outputId": "cc39843e-32ae-4586-e6e1-756e55acd608"
      },
      "source": [
        "print(scores)"
      ],
      "execution_count": null,
      "outputs": [
        {
          "output_type": "stream",
          "text": [
            "[0.9068323  0.88198758 0.90625    0.89937107 0.91823899 0.89937107\n",
            " 0.89937107 0.91194969 0.90566038 0.94936709]\n"
          ],
          "name": "stdout"
        }
      ]
    },
    {
      "cell_type": "code",
      "metadata": {
        "id": "5z2A6Pr6tvUx",
        "colab_type": "code",
        "colab": {
          "base_uri": "https://localhost:8080/",
          "height": 34
        },
        "outputId": "47fa4adb-0c33-48f9-fd6a-ffecdeade7ee"
      },
      "source": [
        "print(scores.mean())"
      ],
      "execution_count": null,
      "outputs": [
        {
          "output_type": "stream",
          "text": [
            "0.9078399228534936\n"
          ],
          "name": "stdout"
        }
      ]
    },
    {
      "cell_type": "code",
      "metadata": {
        "id": "xzaXWn04txpn",
        "colab_type": "code",
        "colab": {
          "base_uri": "https://localhost:8080/",
          "height": 34
        },
        "outputId": "059ead7c-3539-49fc-9892-d162b384118f"
      },
      "source": [
        "print(scores.std())"
      ],
      "execution_count": null,
      "outputs": [
        {
          "output_type": "stream",
          "text": [
            "0.01655698674556942\n"
          ],
          "name": "stdout"
        }
      ]
    },
    {
      "cell_type": "code",
      "metadata": {
        "id": "3Q449azsBaSf",
        "colab_type": "code",
        "colab": {}
      },
      "source": [
        "y_pred=tree_model.predict(x_test)"
      ],
      "execution_count": null,
      "outputs": []
    },
    {
      "cell_type": "code",
      "metadata": {
        "id": "-qM3SGhznBU3",
        "colab_type": "code",
        "colab": {
          "base_uri": "https://localhost:8080/",
          "height": 210
        },
        "outputId": "14b7463b-7ba6-40a4-db0a-bbea2ca80c2e"
      },
      "source": [
        "print(\"CLASSIFICATION REPORT \\n\",classification_report(y_pred,y_test))"
      ],
      "execution_count": null,
      "outputs": [
        {
          "output_type": "stream",
          "text": [
            "CLASSIFICATION REPORT \n",
            "               precision    recall  f1-score   support\n",
            "\n",
            "           1       0.97      0.94      0.96       425\n",
            "           2       0.72      0.86      0.78        69\n",
            "           3       0.95      0.92      0.93        38\n",
            "\n",
            "    accuracy                           0.93       532\n",
            "   macro avg       0.88      0.91      0.89       532\n",
            "weighted avg       0.94      0.93      0.93       532\n",
            "\n"
          ],
          "name": "stdout"
        }
      ]
    },
    {
      "cell_type": "markdown",
      "metadata": {
        "id": "qLSPJ9vbmTTK",
        "colab_type": "text"
      },
      "source": [
        "**Graphical Implementation of Decision Tree**"
      ]
    },
    {
      "cell_type": "code",
      "metadata": {
        "id": "hx09yJ7rl62f",
        "colab_type": "code",
        "colab": {}
      },
      "source": [
        "import graphviz"
      ],
      "execution_count": null,
      "outputs": []
    },
    {
      "cell_type": "code",
      "metadata": {
        "id": "mlKSa9IMmddJ",
        "colab_type": "code",
        "colab": {
          "base_uri": "https://localhost:8080/",
          "height": 876
        },
        "outputId": "177e1845-2177-4bbf-fae8-27e87a9689d6"
      },
      "source": [
        "dot_data = tree.export_graphviz( tree_model, feature_names=['AC', 'FM', 'UC', 'DL', 'DS', 'DP', 'LB', 'ASTV', 'MSTV', 'ALTV', 'MLTV', 'Width', 'Min', 'Max', 'Nmax', 'Nzeros', 'Mode', 'Mean', 'Median', 'Variance', 'Tendency'],class_names=['Normal','Suspect','Pathological'], out_file=None, filled=True, node_ids=True, rotate=False, rounded=True, precision=5)  \n",
        "graph=graphviz.Source(dot_data)\n",
        "graph"
      ],
      "execution_count": null,
      "outputs": [
        {
          "output_type": "execute_result",
          "data": {
            "text/plain": [
              "<graphviz.files.Source at 0x7f5b0d585cc0>"
            ],
            "image/svg+xml": "<?xml version=\"1.0\" encoding=\"UTF-8\" standalone=\"no\"?>\n<!DOCTYPE svg PUBLIC \"-//W3C//DTD SVG 1.1//EN\"\n \"http://www.w3.org/Graphics/SVG/1.1/DTD/svg11.dtd\">\n<!-- Generated by graphviz version 2.40.1 (20161225.0304)\n -->\n<!-- Title: Tree Pages: 1 -->\n<svg width=\"2115pt\" height=\"627pt\"\n viewBox=\"0.00 0.00 2114.50 627.00\" xmlns=\"http://www.w3.org/2000/svg\" xmlns:xlink=\"http://www.w3.org/1999/xlink\">\n<g id=\"graph0\" class=\"graph\" transform=\"scale(1 1) rotate(0) translate(4 623)\">\n<title>Tree</title>\n<polygon fill=\"#ffffff\" stroke=\"transparent\" points=\"-4,4 -4,-623 2110.5,-623 2110.5,4 -4,4\"/>\n<!-- 0 -->\n<g id=\"node1\" class=\"node\">\n<title>0</title>\n<path fill=\"#eca16b\" stroke=\"#000000\" d=\"M989,-619C989,-619 840,-619 840,-619 834,-619 828,-613 828,-607 828,-607 828,-533 828,-533 828,-527 834,-521 840,-521 840,-521 989,-521 989,-521 995,-521 1001,-527 1001,-533 1001,-533 1001,-607 1001,-607 1001,-613 995,-619 989,-619\"/>\n<text text-anchor=\"middle\" x=\"914.5\" y=\"-603.8\" font-family=\"Helvetica,sans-Serif\" font-size=\"14.00\" fill=\"#000000\">node #0</text>\n<text text-anchor=\"middle\" x=\"914.5\" y=\"-588.8\" font-family=\"Helvetica,sans-Serif\" font-size=\"14.00\" fill=\"#000000\">MSTV &lt;= 0.55</text>\n<text text-anchor=\"middle\" x=\"914.5\" y=\"-573.8\" font-family=\"Helvetica,sans-Serif\" font-size=\"14.00\" fill=\"#000000\">gini = 0.36743</text>\n<text text-anchor=\"middle\" x=\"914.5\" y=\"-558.8\" font-family=\"Helvetica,sans-Serif\" font-size=\"14.00\" fill=\"#000000\">samples = 1594</text>\n<text text-anchor=\"middle\" x=\"914.5\" y=\"-543.8\" font-family=\"Helvetica,sans-Serif\" font-size=\"14.00\" fill=\"#000000\">value = [1242, 213, 139]</text>\n<text text-anchor=\"middle\" x=\"914.5\" y=\"-528.8\" font-family=\"Helvetica,sans-Serif\" font-size=\"14.00\" fill=\"#000000\">class = Normal</text>\n</g>\n<!-- 1 -->\n<g id=\"node2\" class=\"node\">\n<title>1</title>\n<path fill=\"#bdf6d5\" stroke=\"#000000\" d=\"M694.5,-485C694.5,-485 570.5,-485 570.5,-485 564.5,-485 558.5,-479 558.5,-473 558.5,-473 558.5,-399 558.5,-399 558.5,-393 564.5,-387 570.5,-387 570.5,-387 694.5,-387 694.5,-387 700.5,-387 706.5,-393 706.5,-399 706.5,-399 706.5,-473 706.5,-473 706.5,-479 700.5,-485 694.5,-485\"/>\n<text text-anchor=\"middle\" x=\"632.5\" y=\"-469.8\" font-family=\"Helvetica,sans-Serif\" font-size=\"14.00\" fill=\"#000000\">node #1</text>\n<text text-anchor=\"middle\" x=\"632.5\" y=\"-454.8\" font-family=\"Helvetica,sans-Serif\" font-size=\"14.00\" fill=\"#000000\">ALTV &lt;= 68.5</text>\n<text text-anchor=\"middle\" x=\"632.5\" y=\"-439.8\" font-family=\"Helvetica,sans-Serif\" font-size=\"14.00\" fill=\"#000000\">gini = 0.61049</text>\n<text text-anchor=\"middle\" x=\"632.5\" y=\"-424.8\" font-family=\"Helvetica,sans-Serif\" font-size=\"14.00\" fill=\"#000000\">samples = 269</text>\n<text text-anchor=\"middle\" x=\"632.5\" y=\"-409.8\" font-family=\"Helvetica,sans-Serif\" font-size=\"14.00\" fill=\"#000000\">value = [76, 140, 53]</text>\n<text text-anchor=\"middle\" x=\"632.5\" y=\"-394.8\" font-family=\"Helvetica,sans-Serif\" font-size=\"14.00\" fill=\"#000000\">class = Suspect</text>\n</g>\n<!-- 0&#45;&gt;1 -->\n<g id=\"edge1\" class=\"edge\">\n<title>0&#45;&gt;1</title>\n<path fill=\"none\" stroke=\"#000000\" d=\"M827.9743,-528.8849C792.4533,-512.0062 751.4818,-492.5375 716.2533,-475.7976\"/>\n<polygon fill=\"#000000\" stroke=\"#000000\" points=\"717.4889,-472.5098 706.9546,-471.3791 714.4846,-478.8323 717.4889,-472.5098\"/>\n<text text-anchor=\"middle\" x=\"715.3343\" y=\"-491.2329\" font-family=\"Helvetica,sans-Serif\" font-size=\"14.00\" fill=\"#000000\">True</text>\n</g>\n<!-- 14 -->\n<g id=\"node15\" class=\"node\">\n<title>14</title>\n<path fill=\"#e89152\" stroke=\"#000000\" d=\"M1257.5,-485C1257.5,-485 1125.5,-485 1125.5,-485 1119.5,-485 1113.5,-479 1113.5,-473 1113.5,-473 1113.5,-399 1113.5,-399 1113.5,-393 1119.5,-387 1125.5,-387 1125.5,-387 1257.5,-387 1257.5,-387 1263.5,-387 1269.5,-393 1269.5,-399 1269.5,-399 1269.5,-473 1269.5,-473 1269.5,-479 1263.5,-485 1257.5,-485\"/>\n<text text-anchor=\"middle\" x=\"1191.5\" y=\"-469.8\" font-family=\"Helvetica,sans-Serif\" font-size=\"14.00\" fill=\"#000000\">node #14</text>\n<text text-anchor=\"middle\" x=\"1191.5\" y=\"-454.8\" font-family=\"Helvetica,sans-Serif\" font-size=\"14.00\" fill=\"#000000\">Mean &lt;= 108.5</text>\n<text text-anchor=\"middle\" x=\"1191.5\" y=\"-439.8\" font-family=\"Helvetica,sans-Serif\" font-size=\"14.00\" fill=\"#000000\">gini = 0.21835</text>\n<text text-anchor=\"middle\" x=\"1191.5\" y=\"-424.8\" font-family=\"Helvetica,sans-Serif\" font-size=\"14.00\" fill=\"#000000\">samples = 1325</text>\n<text text-anchor=\"middle\" x=\"1191.5\" y=\"-409.8\" font-family=\"Helvetica,sans-Serif\" font-size=\"14.00\" fill=\"#000000\">value = [1166, 73, 86]</text>\n<text text-anchor=\"middle\" x=\"1191.5\" y=\"-394.8\" font-family=\"Helvetica,sans-Serif\" font-size=\"14.00\" fill=\"#000000\">class = Normal</text>\n</g>\n<!-- 0&#45;&gt;14 -->\n<g id=\"edge14\" class=\"edge\">\n<title>0&#45;&gt;14</title>\n<path fill=\"none\" stroke=\"#000000\" d=\"M1001.0051,-528.1528C1033.7974,-512.2894 1071.1388,-494.2253 1104.0202,-478.3188\"/>\n<polygon fill=\"#000000\" stroke=\"#000000\" points=\"1105.6908,-481.3987 1113.1687,-473.8931 1102.6425,-475.0973 1105.6908,-481.3987\"/>\n<text text-anchor=\"middle\" x=\"1104.9534\" y=\"-493.8048\" font-family=\"Helvetica,sans-Serif\" font-size=\"14.00\" fill=\"#000000\">False</text>\n</g>\n<!-- 2 -->\n<g id=\"node3\" class=\"node\">\n<title>2</title>\n<path fill=\"#acf4ca\" stroke=\"#000000\" d=\"M471.5,-351C471.5,-351 347.5,-351 347.5,-351 341.5,-351 335.5,-345 335.5,-339 335.5,-339 335.5,-265 335.5,-265 335.5,-259 341.5,-253 347.5,-253 347.5,-253 471.5,-253 471.5,-253 477.5,-253 483.5,-259 483.5,-265 483.5,-265 483.5,-339 483.5,-339 483.5,-345 477.5,-351 471.5,-351\"/>\n<text text-anchor=\"middle\" x=\"409.5\" y=\"-335.8\" font-family=\"Helvetica,sans-Serif\" font-size=\"14.00\" fill=\"#000000\">node #2</text>\n<text text-anchor=\"middle\" x=\"409.5\" y=\"-320.8\" font-family=\"Helvetica,sans-Serif\" font-size=\"14.00\" fill=\"#000000\">ASTV &lt;= 79.5</text>\n<text text-anchor=\"middle\" x=\"409.5\" y=\"-305.8\" font-family=\"Helvetica,sans-Serif\" font-size=\"14.00\" fill=\"#000000\">gini = 0.54164</text>\n<text text-anchor=\"middle\" x=\"409.5\" y=\"-290.8\" font-family=\"Helvetica,sans-Serif\" font-size=\"14.00\" fill=\"#000000\">samples = 235</text>\n<text text-anchor=\"middle\" x=\"409.5\" y=\"-275.8\" font-family=\"Helvetica,sans-Serif\" font-size=\"14.00\" fill=\"#000000\">value = [72, 140, 23]</text>\n<text text-anchor=\"middle\" x=\"409.5\" y=\"-260.8\" font-family=\"Helvetica,sans-Serif\" font-size=\"14.00\" fill=\"#000000\">class = Suspect</text>\n</g>\n<!-- 1&#45;&gt;2 -->\n<g id=\"edge2\" class=\"edge\">\n<title>1&#45;&gt;2</title>\n<path fill=\"none\" stroke=\"#000000\" d=\"M558.2442,-391.3799C537.1975,-378.733 514.1506,-364.8842 492.6168,-351.9446\"/>\n<polygon fill=\"#000000\" stroke=\"#000000\" points=\"494.1857,-348.8041 483.8115,-346.6535 490.5803,-354.8042 494.1857,-348.8041\"/>\n</g>\n<!-- 9 -->\n<g id=\"node10\" class=\"node\">\n<title>9</title>\n<path fill=\"#9253e8\" stroke=\"#000000\" d=\"M693.5,-351C693.5,-351 571.5,-351 571.5,-351 565.5,-351 559.5,-345 559.5,-339 559.5,-339 559.5,-265 559.5,-265 559.5,-259 565.5,-253 571.5,-253 571.5,-253 693.5,-253 693.5,-253 699.5,-253 705.5,-259 705.5,-265 705.5,-265 705.5,-339 705.5,-339 705.5,-345 699.5,-351 693.5,-351\"/>\n<text text-anchor=\"middle\" x=\"632.5\" y=\"-335.8\" font-family=\"Helvetica,sans-Serif\" font-size=\"14.00\" fill=\"#000000\">node #9</text>\n<text text-anchor=\"middle\" x=\"632.5\" y=\"-320.8\" font-family=\"Helvetica,sans-Serif\" font-size=\"14.00\" fill=\"#000000\">UC &lt;= 3.5</text>\n<text text-anchor=\"middle\" x=\"632.5\" y=\"-305.8\" font-family=\"Helvetica,sans-Serif\" font-size=\"14.00\" fill=\"#000000\">gini = 0.20761</text>\n<text text-anchor=\"middle\" x=\"632.5\" y=\"-290.8\" font-family=\"Helvetica,sans-Serif\" font-size=\"14.00\" fill=\"#000000\">samples = 34</text>\n<text text-anchor=\"middle\" x=\"632.5\" y=\"-275.8\" font-family=\"Helvetica,sans-Serif\" font-size=\"14.00\" fill=\"#000000\">value = [4, 0, 30]</text>\n<text text-anchor=\"middle\" x=\"632.5\" y=\"-260.8\" font-family=\"Helvetica,sans-Serif\" font-size=\"14.00\" fill=\"#000000\">class = Pathological</text>\n</g>\n<!-- 1&#45;&gt;9 -->\n<g id=\"edge9\" class=\"edge\">\n<title>1&#45;&gt;9</title>\n<path fill=\"none\" stroke=\"#000000\" d=\"M632.5,-386.8642C632.5,-378.5802 632.5,-369.903 632.5,-361.3918\"/>\n<polygon fill=\"#000000\" stroke=\"#000000\" points=\"636.0001,-361.1298 632.5,-351.1298 629.0001,-361.1299 636.0001,-361.1298\"/>\n</g>\n<!-- 3 -->\n<g id=\"node4\" class=\"node\">\n<title>3</title>\n<path fill=\"#9ff2c2\" stroke=\"#000000\" d=\"M277.5,-217C277.5,-217 161.5,-217 161.5,-217 155.5,-217 149.5,-211 149.5,-205 149.5,-205 149.5,-131 149.5,-131 149.5,-125 155.5,-119 161.5,-119 161.5,-119 277.5,-119 277.5,-119 283.5,-119 289.5,-125 289.5,-131 289.5,-131 289.5,-205 289.5,-205 289.5,-211 283.5,-217 277.5,-217\"/>\n<text text-anchor=\"middle\" x=\"219.5\" y=\"-201.8\" font-family=\"Helvetica,sans-Serif\" font-size=\"14.00\" fill=\"#000000\">node #3</text>\n<text text-anchor=\"middle\" x=\"219.5\" y=\"-186.8\" font-family=\"Helvetica,sans-Serif\" font-size=\"14.00\" fill=\"#000000\">ASTV &lt;= 59.5</text>\n<text text-anchor=\"middle\" x=\"219.5\" y=\"-171.8\" font-family=\"Helvetica,sans-Serif\" font-size=\"14.00\" fill=\"#000000\">gini = 0.46467</text>\n<text text-anchor=\"middle\" x=\"219.5\" y=\"-156.8\" font-family=\"Helvetica,sans-Serif\" font-size=\"14.00\" fill=\"#000000\">samples = 214</text>\n<text text-anchor=\"middle\" x=\"219.5\" y=\"-141.8\" font-family=\"Helvetica,sans-Serif\" font-size=\"14.00\" fill=\"#000000\">value = [70, 140, 4]</text>\n<text text-anchor=\"middle\" x=\"219.5\" y=\"-126.8\" font-family=\"Helvetica,sans-Serif\" font-size=\"14.00\" fill=\"#000000\">class = Suspect</text>\n</g>\n<!-- 2&#45;&gt;3 -->\n<g id=\"edge3\" class=\"edge\">\n<title>2&#45;&gt;3</title>\n<path fill=\"none\" stroke=\"#000000\" d=\"M339.8299,-252.8642C326.0186,-243.1236 311.4367,-232.8396 297.3727,-222.9208\"/>\n<polygon fill=\"#000000\" stroke=\"#000000\" points=\"299.351,-220.0331 289.1617,-217.1298 295.3166,-225.7536 299.351,-220.0331\"/>\n</g>\n<!-- 6 -->\n<g id=\"node7\" class=\"node\">\n<title>6</title>\n<path fill=\"#8e4ee8\" stroke=\"#000000\" d=\"M470.5,-217C470.5,-217 348.5,-217 348.5,-217 342.5,-217 336.5,-211 336.5,-205 336.5,-205 336.5,-131 336.5,-131 336.5,-125 342.5,-119 348.5,-119 348.5,-119 470.5,-119 470.5,-119 476.5,-119 482.5,-125 482.5,-131 482.5,-131 482.5,-205 482.5,-205 482.5,-211 476.5,-217 470.5,-217\"/>\n<text text-anchor=\"middle\" x=\"409.5\" y=\"-201.8\" font-family=\"Helvetica,sans-Serif\" font-size=\"14.00\" fill=\"#000000\">node #6</text>\n<text text-anchor=\"middle\" x=\"409.5\" y=\"-186.8\" font-family=\"Helvetica,sans-Serif\" font-size=\"14.00\" fill=\"#000000\">AC &lt;= 0.5</text>\n<text text-anchor=\"middle\" x=\"409.5\" y=\"-171.8\" font-family=\"Helvetica,sans-Serif\" font-size=\"14.00\" fill=\"#000000\">gini = 0.17234</text>\n<text text-anchor=\"middle\" x=\"409.5\" y=\"-156.8\" font-family=\"Helvetica,sans-Serif\" font-size=\"14.00\" fill=\"#000000\">samples = 21</text>\n<text text-anchor=\"middle\" x=\"409.5\" y=\"-141.8\" font-family=\"Helvetica,sans-Serif\" font-size=\"14.00\" fill=\"#000000\">value = [2, 0, 19]</text>\n<text text-anchor=\"middle\" x=\"409.5\" y=\"-126.8\" font-family=\"Helvetica,sans-Serif\" font-size=\"14.00\" fill=\"#000000\">class = Pathological</text>\n</g>\n<!-- 2&#45;&gt;6 -->\n<g id=\"edge6\" class=\"edge\">\n<title>2&#45;&gt;6</title>\n<path fill=\"none\" stroke=\"#000000\" d=\"M409.5,-252.8642C409.5,-244.5802 409.5,-235.903 409.5,-227.3918\"/>\n<polygon fill=\"#000000\" stroke=\"#000000\" points=\"413.0001,-227.1298 409.5,-217.1298 406.0001,-227.1299 413.0001,-227.1298\"/>\n</g>\n<!-- 4 -->\n<g id=\"node5\" class=\"node\">\n<title>4</title>\n<path fill=\"#eeae80\" stroke=\"#000000\" d=\"M119,-83C119,-83 12,-83 12,-83 6,-83 0,-77 0,-71 0,-71 0,-12 0,-12 0,-6 6,0 12,0 12,0 119,0 119,0 125,0 131,-6 131,-12 131,-12 131,-71 131,-71 131,-77 125,-83 119,-83\"/>\n<text text-anchor=\"middle\" x=\"65.5\" y=\"-67.8\" font-family=\"Helvetica,sans-Serif\" font-size=\"14.00\" fill=\"#000000\">node #4</text>\n<text text-anchor=\"middle\" x=\"65.5\" y=\"-52.8\" font-family=\"Helvetica,sans-Serif\" font-size=\"14.00\" fill=\"#000000\">gini = 0.38875</text>\n<text text-anchor=\"middle\" x=\"65.5\" y=\"-37.8\" font-family=\"Helvetica,sans-Serif\" font-size=\"14.00\" fill=\"#000000\">samples = 53</text>\n<text text-anchor=\"middle\" x=\"65.5\" y=\"-22.8\" font-family=\"Helvetica,sans-Serif\" font-size=\"14.00\" fill=\"#000000\">value = [39, 14, 0]</text>\n<text text-anchor=\"middle\" x=\"65.5\" y=\"-7.8\" font-family=\"Helvetica,sans-Serif\" font-size=\"14.00\" fill=\"#000000\">class = Normal</text>\n</g>\n<!-- 3&#45;&gt;4 -->\n<g id=\"edge4\" class=\"edge\">\n<title>3&#45;&gt;4</title>\n<path fill=\"none\" stroke=\"#000000\" d=\"M159.5186,-118.7296C147.8534,-109.1474 135.6395,-99.1146 124.0221,-89.5717\"/>\n<polygon fill=\"#000000\" stroke=\"#000000\" points=\"126.0375,-86.6978 116.0886,-83.055 121.5943,-92.1069 126.0375,-86.6978\"/>\n</g>\n<!-- 5 -->\n<g id=\"node6\" class=\"node\">\n<title>5</title>\n<path fill=\"#6eeca3\" stroke=\"#000000\" d=\"M277.5,-83C277.5,-83 161.5,-83 161.5,-83 155.5,-83 149.5,-77 149.5,-71 149.5,-71 149.5,-12 149.5,-12 149.5,-6 155.5,0 161.5,0 161.5,0 277.5,0 277.5,0 283.5,0 289.5,-6 289.5,-12 289.5,-12 289.5,-71 289.5,-71 289.5,-77 283.5,-83 277.5,-83\"/>\n<text text-anchor=\"middle\" x=\"219.5\" y=\"-67.8\" font-family=\"Helvetica,sans-Serif\" font-size=\"14.00\" fill=\"#000000\">node #5</text>\n<text text-anchor=\"middle\" x=\"219.5\" y=\"-52.8\" font-family=\"Helvetica,sans-Serif\" font-size=\"14.00\" fill=\"#000000\">gini = 0.34983</text>\n<text text-anchor=\"middle\" x=\"219.5\" y=\"-37.8\" font-family=\"Helvetica,sans-Serif\" font-size=\"14.00\" fill=\"#000000\">samples = 161</text>\n<text text-anchor=\"middle\" x=\"219.5\" y=\"-22.8\" font-family=\"Helvetica,sans-Serif\" font-size=\"14.00\" fill=\"#000000\">value = [31, 126, 4]</text>\n<text text-anchor=\"middle\" x=\"219.5\" y=\"-7.8\" font-family=\"Helvetica,sans-Serif\" font-size=\"14.00\" fill=\"#000000\">class = Suspect</text>\n</g>\n<!-- 3&#45;&gt;5 -->\n<g id=\"edge5\" class=\"edge\">\n<title>3&#45;&gt;5</title>\n<path fill=\"none\" stroke=\"#000000\" d=\"M219.5,-118.7296C219.5,-110.3452 219.5,-101.6158 219.5,-93.1714\"/>\n<polygon fill=\"#000000\" stroke=\"#000000\" points=\"223.0001,-93.0549 219.5,-83.055 216.0001,-93.055 223.0001,-93.0549\"/>\n</g>\n<!-- 7 -->\n<g id=\"node8\" class=\"node\">\n<title>7</title>\n<path fill=\"#8843e6\" stroke=\"#000000\" d=\"M441.5,-83C441.5,-83 319.5,-83 319.5,-83 313.5,-83 307.5,-77 307.5,-71 307.5,-71 307.5,-12 307.5,-12 307.5,-6 313.5,0 319.5,0 319.5,0 441.5,0 441.5,0 447.5,0 453.5,-6 453.5,-12 453.5,-12 453.5,-71 453.5,-71 453.5,-77 447.5,-83 441.5,-83\"/>\n<text text-anchor=\"middle\" x=\"380.5\" y=\"-67.8\" font-family=\"Helvetica,sans-Serif\" font-size=\"14.00\" fill=\"#000000\">node #7</text>\n<text text-anchor=\"middle\" x=\"380.5\" y=\"-52.8\" font-family=\"Helvetica,sans-Serif\" font-size=\"14.00\" fill=\"#000000\">gini = 0.095</text>\n<text text-anchor=\"middle\" x=\"380.5\" y=\"-37.8\" font-family=\"Helvetica,sans-Serif\" font-size=\"14.00\" fill=\"#000000\">samples = 20</text>\n<text text-anchor=\"middle\" x=\"380.5\" y=\"-22.8\" font-family=\"Helvetica,sans-Serif\" font-size=\"14.00\" fill=\"#000000\">value = [1, 0, 19]</text>\n<text text-anchor=\"middle\" x=\"380.5\" y=\"-7.8\" font-family=\"Helvetica,sans-Serif\" font-size=\"14.00\" fill=\"#000000\">class = Pathological</text>\n</g>\n<!-- 6&#45;&gt;7 -->\n<g id=\"edge7\" class=\"edge\">\n<title>6&#45;&gt;7</title>\n<path fill=\"none\" stroke=\"#000000\" d=\"M398.2048,-118.7296C396.2616,-110.253 394.2375,-101.4239 392.2818,-92.8932\"/>\n<polygon fill=\"#000000\" stroke=\"#000000\" points=\"395.6725,-92.02 390.0264,-83.055 388.8495,-93.5842 395.6725,-92.02\"/>\n</g>\n<!-- 8 -->\n<g id=\"node9\" class=\"node\">\n<title>8</title>\n<path fill=\"#e58139\" stroke=\"#000000\" d=\"M575,-83C575,-83 484,-83 484,-83 478,-83 472,-77 472,-71 472,-71 472,-12 472,-12 472,-6 478,0 484,0 484,0 575,0 575,0 581,0 587,-6 587,-12 587,-12 587,-71 587,-71 587,-77 581,-83 575,-83\"/>\n<text text-anchor=\"middle\" x=\"529.5\" y=\"-67.8\" font-family=\"Helvetica,sans-Serif\" font-size=\"14.00\" fill=\"#000000\">node #8</text>\n<text text-anchor=\"middle\" x=\"529.5\" y=\"-52.8\" font-family=\"Helvetica,sans-Serif\" font-size=\"14.00\" fill=\"#000000\">gini = 0.0</text>\n<text text-anchor=\"middle\" x=\"529.5\" y=\"-37.8\" font-family=\"Helvetica,sans-Serif\" font-size=\"14.00\" fill=\"#000000\">samples = 1</text>\n<text text-anchor=\"middle\" x=\"529.5\" y=\"-22.8\" font-family=\"Helvetica,sans-Serif\" font-size=\"14.00\" fill=\"#000000\">value = [1, 0, 0]</text>\n<text text-anchor=\"middle\" x=\"529.5\" y=\"-7.8\" font-family=\"Helvetica,sans-Serif\" font-size=\"14.00\" fill=\"#000000\">class = Normal</text>\n</g>\n<!-- 6&#45;&gt;8 -->\n<g id=\"edge8\" class=\"edge\">\n<title>6&#45;&gt;8</title>\n<path fill=\"none\" stroke=\"#000000\" d=\"M456.2387,-118.7296C465.0663,-109.4238 474.2971,-99.6931 483.1138,-90.3988\"/>\n<polygon fill=\"#000000\" stroke=\"#000000\" points=\"485.7373,-92.7188 490.0803,-83.055 480.6588,-87.9012 485.7373,-92.7188\"/>\n</g>\n<!-- 10 -->\n<g id=\"node11\" class=\"node\">\n<title>10</title>\n<path fill=\"#8139e5\" stroke=\"#000000\" d=\"M664.5,-209.5C664.5,-209.5 542.5,-209.5 542.5,-209.5 536.5,-209.5 530.5,-203.5 530.5,-197.5 530.5,-197.5 530.5,-138.5 530.5,-138.5 530.5,-132.5 536.5,-126.5 542.5,-126.5 542.5,-126.5 664.5,-126.5 664.5,-126.5 670.5,-126.5 676.5,-132.5 676.5,-138.5 676.5,-138.5 676.5,-197.5 676.5,-197.5 676.5,-203.5 670.5,-209.5 664.5,-209.5\"/>\n<text text-anchor=\"middle\" x=\"603.5\" y=\"-194.3\" font-family=\"Helvetica,sans-Serif\" font-size=\"14.00\" fill=\"#000000\">node #10</text>\n<text text-anchor=\"middle\" x=\"603.5\" y=\"-179.3\" font-family=\"Helvetica,sans-Serif\" font-size=\"14.00\" fill=\"#000000\">gini = 0.0</text>\n<text text-anchor=\"middle\" x=\"603.5\" y=\"-164.3\" font-family=\"Helvetica,sans-Serif\" font-size=\"14.00\" fill=\"#000000\">samples = 29</text>\n<text text-anchor=\"middle\" x=\"603.5\" y=\"-149.3\" font-family=\"Helvetica,sans-Serif\" font-size=\"14.00\" fill=\"#000000\">value = [0, 0, 29]</text>\n<text text-anchor=\"middle\" x=\"603.5\" y=\"-134.3\" font-family=\"Helvetica,sans-Serif\" font-size=\"14.00\" fill=\"#000000\">class = Pathological</text>\n</g>\n<!-- 9&#45;&gt;10 -->\n<g id=\"edge10\" class=\"edge\">\n<title>9&#45;&gt;10</title>\n<path fill=\"none\" stroke=\"#000000\" d=\"M621.8661,-252.8642C619.5146,-241.9985 617.0167,-230.4566 614.6455,-219.4998\"/>\n<polygon fill=\"#000000\" stroke=\"#000000\" points=\"618.0473,-218.6715 612.5112,-209.6381 611.2057,-220.1522 618.0473,-218.6715\"/>\n</g>\n<!-- 11 -->\n<g id=\"node12\" class=\"node\">\n<title>11</title>\n<path fill=\"#eca06a\" stroke=\"#000000\" d=\"M798,-217C798,-217 707,-217 707,-217 701,-217 695,-211 695,-205 695,-205 695,-131 695,-131 695,-125 701,-119 707,-119 707,-119 798,-119 798,-119 804,-119 810,-125 810,-131 810,-131 810,-205 810,-205 810,-211 804,-217 798,-217\"/>\n<text text-anchor=\"middle\" x=\"752.5\" y=\"-201.8\" font-family=\"Helvetica,sans-Serif\" font-size=\"14.00\" fill=\"#000000\">node #11</text>\n<text text-anchor=\"middle\" x=\"752.5\" y=\"-186.8\" font-family=\"Helvetica,sans-Serif\" font-size=\"14.00\" fill=\"#000000\">ALTV &lt;= 77.0</text>\n<text text-anchor=\"middle\" x=\"752.5\" y=\"-171.8\" font-family=\"Helvetica,sans-Serif\" font-size=\"14.00\" fill=\"#000000\">gini = 0.32</text>\n<text text-anchor=\"middle\" x=\"752.5\" y=\"-156.8\" font-family=\"Helvetica,sans-Serif\" font-size=\"14.00\" fill=\"#000000\">samples = 5</text>\n<text text-anchor=\"middle\" x=\"752.5\" y=\"-141.8\" font-family=\"Helvetica,sans-Serif\" font-size=\"14.00\" fill=\"#000000\">value = [4, 0, 1]</text>\n<text text-anchor=\"middle\" x=\"752.5\" y=\"-126.8\" font-family=\"Helvetica,sans-Serif\" font-size=\"14.00\" fill=\"#000000\">class = Normal</text>\n</g>\n<!-- 9&#45;&gt;11 -->\n<g id=\"edge11\" class=\"edge\">\n<title>9&#45;&gt;11</title>\n<path fill=\"none\" stroke=\"#000000\" d=\"M676.5022,-252.8642C684.736,-243.6698 693.4034,-233.9912 701.82,-224.5926\"/>\n<polygon fill=\"#000000\" stroke=\"#000000\" points=\"704.4392,-226.9143 708.5031,-217.1298 699.2246,-222.2444 704.4392,-226.9143\"/>\n</g>\n<!-- 12 -->\n<g id=\"node13\" class=\"node\">\n<title>12</title>\n<path fill=\"#e58139\" stroke=\"#000000\" d=\"M708,-83C708,-83 617,-83 617,-83 611,-83 605,-77 605,-71 605,-71 605,-12 605,-12 605,-6 611,0 617,0 617,0 708,0 708,0 714,0 720,-6 720,-12 720,-12 720,-71 720,-71 720,-77 714,-83 708,-83\"/>\n<text text-anchor=\"middle\" x=\"662.5\" y=\"-67.8\" font-family=\"Helvetica,sans-Serif\" font-size=\"14.00\" fill=\"#000000\">node #12</text>\n<text text-anchor=\"middle\" x=\"662.5\" y=\"-52.8\" font-family=\"Helvetica,sans-Serif\" font-size=\"14.00\" fill=\"#000000\">gini = 0.0</text>\n<text text-anchor=\"middle\" x=\"662.5\" y=\"-37.8\" font-family=\"Helvetica,sans-Serif\" font-size=\"14.00\" fill=\"#000000\">samples = 4</text>\n<text text-anchor=\"middle\" x=\"662.5\" y=\"-22.8\" font-family=\"Helvetica,sans-Serif\" font-size=\"14.00\" fill=\"#000000\">value = [4, 0, 0]</text>\n<text text-anchor=\"middle\" x=\"662.5\" y=\"-7.8\" font-family=\"Helvetica,sans-Serif\" font-size=\"14.00\" fill=\"#000000\">class = Normal</text>\n</g>\n<!-- 11&#45;&gt;12 -->\n<g id=\"edge12\" class=\"edge\">\n<title>11&#45;&gt;12</title>\n<path fill=\"none\" stroke=\"#000000\" d=\"M717.4459,-118.7296C711.0219,-109.7002 704.3132,-100.2707 697.8797,-91.2281\"/>\n<polygon fill=\"#000000\" stroke=\"#000000\" points=\"700.7139,-89.1742 692.0648,-83.055 695.0101,-93.2322 700.7139,-89.1742\"/>\n</g>\n<!-- 13 -->\n<g id=\"node14\" class=\"node\">\n<title>13</title>\n<path fill=\"#8139e5\" stroke=\"#000000\" d=\"M872.5,-83C872.5,-83 750.5,-83 750.5,-83 744.5,-83 738.5,-77 738.5,-71 738.5,-71 738.5,-12 738.5,-12 738.5,-6 744.5,0 750.5,0 750.5,0 872.5,0 872.5,0 878.5,0 884.5,-6 884.5,-12 884.5,-12 884.5,-71 884.5,-71 884.5,-77 878.5,-83 872.5,-83\"/>\n<text text-anchor=\"middle\" x=\"811.5\" y=\"-67.8\" font-family=\"Helvetica,sans-Serif\" font-size=\"14.00\" fill=\"#000000\">node #13</text>\n<text text-anchor=\"middle\" x=\"811.5\" y=\"-52.8\" font-family=\"Helvetica,sans-Serif\" font-size=\"14.00\" fill=\"#000000\">gini = 0.0</text>\n<text text-anchor=\"middle\" x=\"811.5\" y=\"-37.8\" font-family=\"Helvetica,sans-Serif\" font-size=\"14.00\" fill=\"#000000\">samples = 1</text>\n<text text-anchor=\"middle\" x=\"811.5\" y=\"-22.8\" font-family=\"Helvetica,sans-Serif\" font-size=\"14.00\" fill=\"#000000\">value = [0, 0, 1]</text>\n<text text-anchor=\"middle\" x=\"811.5\" y=\"-7.8\" font-family=\"Helvetica,sans-Serif\" font-size=\"14.00\" fill=\"#000000\">class = Pathological</text>\n</g>\n<!-- 11&#45;&gt;13 -->\n<g id=\"edge13\" class=\"edge\">\n<title>11&#45;&gt;13</title>\n<path fill=\"none\" stroke=\"#000000\" d=\"M775.4799,-118.7296C779.5193,-110.0688 783.7304,-101.0398 787.7893,-92.3372\"/>\n<polygon fill=\"#000000\" stroke=\"#000000\" points=\"791.0636,-93.5971 792.1186,-83.055 784.7197,-90.6383 791.0636,-93.5971\"/>\n</g>\n<!-- 15 -->\n<g id=\"node16\" class=\"node\">\n<title>15</title>\n<path fill=\"#8e4ee8\" stroke=\"#000000\" d=\"M1252.5,-351C1252.5,-351 1130.5,-351 1130.5,-351 1124.5,-351 1118.5,-345 1118.5,-339 1118.5,-339 1118.5,-265 1118.5,-265 1118.5,-259 1124.5,-253 1130.5,-253 1130.5,-253 1252.5,-253 1252.5,-253 1258.5,-253 1264.5,-259 1264.5,-265 1264.5,-265 1264.5,-339 1264.5,-339 1264.5,-345 1258.5,-351 1252.5,-351\"/>\n<text text-anchor=\"middle\" x=\"1191.5\" y=\"-335.8\" font-family=\"Helvetica,sans-Serif\" font-size=\"14.00\" fill=\"#000000\">node #15</text>\n<text text-anchor=\"middle\" x=\"1191.5\" y=\"-320.8\" font-family=\"Helvetica,sans-Serif\" font-size=\"14.00\" fill=\"#000000\">Max &lt;= 220.5</text>\n<text text-anchor=\"middle\" x=\"1191.5\" y=\"-305.8\" font-family=\"Helvetica,sans-Serif\" font-size=\"14.00\" fill=\"#000000\">gini = 0.17817</text>\n<text text-anchor=\"middle\" x=\"1191.5\" y=\"-290.8\" font-family=\"Helvetica,sans-Serif\" font-size=\"14.00\" fill=\"#000000\">samples = 82</text>\n<text text-anchor=\"middle\" x=\"1191.5\" y=\"-275.8\" font-family=\"Helvetica,sans-Serif\" font-size=\"14.00\" fill=\"#000000\">value = [7, 1, 74]</text>\n<text text-anchor=\"middle\" x=\"1191.5\" y=\"-260.8\" font-family=\"Helvetica,sans-Serif\" font-size=\"14.00\" fill=\"#000000\">class = Pathological</text>\n</g>\n<!-- 14&#45;&gt;15 -->\n<g id=\"edge15\" class=\"edge\">\n<title>14&#45;&gt;15</title>\n<path fill=\"none\" stroke=\"#000000\" d=\"M1191.5,-386.8642C1191.5,-378.5802 1191.5,-369.903 1191.5,-361.3918\"/>\n<polygon fill=\"#000000\" stroke=\"#000000\" points=\"1195.0001,-361.1298 1191.5,-351.1298 1188.0001,-361.1299 1195.0001,-361.1298\"/>\n</g>\n<!-- 22 -->\n<g id=\"node23\" class=\"node\">\n<title>22</title>\n<path fill=\"#e78a47\" stroke=\"#000000\" d=\"M1710.5,-351C1710.5,-351 1578.5,-351 1578.5,-351 1572.5,-351 1566.5,-345 1566.5,-339 1566.5,-339 1566.5,-265 1566.5,-265 1566.5,-259 1572.5,-253 1578.5,-253 1578.5,-253 1710.5,-253 1710.5,-253 1716.5,-253 1722.5,-259 1722.5,-265 1722.5,-265 1722.5,-339 1722.5,-339 1722.5,-345 1716.5,-351 1710.5,-351\"/>\n<text text-anchor=\"middle\" x=\"1644.5\" y=\"-335.8\" font-family=\"Helvetica,sans-Serif\" font-size=\"14.00\" fill=\"#000000\">node #22</text>\n<text text-anchor=\"middle\" x=\"1644.5\" y=\"-320.8\" font-family=\"Helvetica,sans-Serif\" font-size=\"14.00\" fill=\"#000000\">DP &lt;= 1.5</text>\n<text text-anchor=\"middle\" x=\"1644.5\" y=\"-305.8\" font-family=\"Helvetica,sans-Serif\" font-size=\"14.00\" fill=\"#000000\">gini = 0.12714</text>\n<text text-anchor=\"middle\" x=\"1644.5\" y=\"-290.8\" font-family=\"Helvetica,sans-Serif\" font-size=\"14.00\" fill=\"#000000\">samples = 1243</text>\n<text text-anchor=\"middle\" x=\"1644.5\" y=\"-275.8\" font-family=\"Helvetica,sans-Serif\" font-size=\"14.00\" fill=\"#000000\">value = [1159, 72, 12]</text>\n<text text-anchor=\"middle\" x=\"1644.5\" y=\"-260.8\" font-family=\"Helvetica,sans-Serif\" font-size=\"14.00\" fill=\"#000000\">class = Normal</text>\n</g>\n<!-- 14&#45;&gt;22 -->\n<g id=\"edge22\" class=\"edge\">\n<title>14&#45;&gt;22</title>\n<path fill=\"none\" stroke=\"#000000\" d=\"M1269.6313,-412.8883C1349.4863,-389.2667 1473.2745,-352.6495 1556.5266,-328.023\"/>\n<polygon fill=\"#000000\" stroke=\"#000000\" points=\"1557.6231,-331.3487 1566.2195,-325.1558 1555.6374,-324.6362 1557.6231,-331.3487\"/>\n</g>\n<!-- 16 -->\n<g id=\"node17\" class=\"node\">\n<title>16</title>\n<path fill=\"#8641e6\" stroke=\"#000000\" d=\"M1170.5,-217C1170.5,-217 1048.5,-217 1048.5,-217 1042.5,-217 1036.5,-211 1036.5,-205 1036.5,-205 1036.5,-131 1036.5,-131 1036.5,-125 1042.5,-119 1048.5,-119 1048.5,-119 1170.5,-119 1170.5,-119 1176.5,-119 1182.5,-125 1182.5,-131 1182.5,-131 1182.5,-205 1182.5,-205 1182.5,-211 1176.5,-217 1170.5,-217\"/>\n<text text-anchor=\"middle\" x=\"1109.5\" y=\"-201.8\" font-family=\"Helvetica,sans-Serif\" font-size=\"14.00\" fill=\"#000000\">node #16</text>\n<text text-anchor=\"middle\" x=\"1109.5\" y=\"-186.8\" font-family=\"Helvetica,sans-Serif\" font-size=\"14.00\" fill=\"#000000\">ASTV &lt;= 24.5</text>\n<text text-anchor=\"middle\" x=\"1109.5\" y=\"-171.8\" font-family=\"Helvetica,sans-Serif\" font-size=\"14.00\" fill=\"#000000\">gini = 0.07652</text>\n<text text-anchor=\"middle\" x=\"1109.5\" y=\"-156.8\" font-family=\"Helvetica,sans-Serif\" font-size=\"14.00\" fill=\"#000000\">samples = 76</text>\n<text text-anchor=\"middle\" x=\"1109.5\" y=\"-141.8\" font-family=\"Helvetica,sans-Serif\" font-size=\"14.00\" fill=\"#000000\">value = [2, 1, 73]</text>\n<text text-anchor=\"middle\" x=\"1109.5\" y=\"-126.8\" font-family=\"Helvetica,sans-Serif\" font-size=\"14.00\" fill=\"#000000\">class = Pathological</text>\n</g>\n<!-- 15&#45;&gt;16 -->\n<g id=\"edge16\" class=\"edge\">\n<title>15&#45;&gt;16</title>\n<path fill=\"none\" stroke=\"#000000\" d=\"M1161.4318,-252.8642C1156.0282,-244.034 1150.3513,-234.7571 1144.8154,-225.7106\"/>\n<polygon fill=\"#000000\" stroke=\"#000000\" points=\"1147.7696,-223.8326 1139.5645,-217.1298 1141.7988,-227.4864 1147.7696,-223.8326\"/>\n</g>\n<!-- 19 -->\n<g id=\"node20\" class=\"node\">\n<title>19</title>\n<path fill=\"#ea9a61\" stroke=\"#000000\" d=\"M1319,-217C1319,-217 1228,-217 1228,-217 1222,-217 1216,-211 1216,-205 1216,-205 1216,-131 1216,-131 1216,-125 1222,-119 1228,-119 1228,-119 1319,-119 1319,-119 1325,-119 1331,-125 1331,-131 1331,-131 1331,-205 1331,-205 1331,-211 1325,-217 1319,-217\"/>\n<text text-anchor=\"middle\" x=\"1273.5\" y=\"-201.8\" font-family=\"Helvetica,sans-Serif\" font-size=\"14.00\" fill=\"#000000\">node #19</text>\n<text text-anchor=\"middle\" x=\"1273.5\" y=\"-186.8\" font-family=\"Helvetica,sans-Serif\" font-size=\"14.00\" fill=\"#000000\">Min &lt;= 56.0</text>\n<text text-anchor=\"middle\" x=\"1273.5\" y=\"-171.8\" font-family=\"Helvetica,sans-Serif\" font-size=\"14.00\" fill=\"#000000\">gini = 0.27778</text>\n<text text-anchor=\"middle\" x=\"1273.5\" y=\"-156.8\" font-family=\"Helvetica,sans-Serif\" font-size=\"14.00\" fill=\"#000000\">samples = 6</text>\n<text text-anchor=\"middle\" x=\"1273.5\" y=\"-141.8\" font-family=\"Helvetica,sans-Serif\" font-size=\"14.00\" fill=\"#000000\">value = [5, 0, 1]</text>\n<text text-anchor=\"middle\" x=\"1273.5\" y=\"-126.8\" font-family=\"Helvetica,sans-Serif\" font-size=\"14.00\" fill=\"#000000\">class = Normal</text>\n</g>\n<!-- 15&#45;&gt;19 -->\n<g id=\"edge19\" class=\"edge\">\n<title>15&#45;&gt;19</title>\n<path fill=\"none\" stroke=\"#000000\" d=\"M1221.5682,-252.8642C1226.9718,-244.034 1232.6487,-234.7571 1238.1846,-225.7106\"/>\n<polygon fill=\"#000000\" stroke=\"#000000\" points=\"1241.2012,-227.4864 1243.4355,-217.1298 1235.2304,-223.8326 1241.2012,-227.4864\"/>\n</g>\n<!-- 17 -->\n<g id=\"node18\" class=\"node\">\n<title>17</title>\n<path fill=\"#ffffff\" stroke=\"#000000\" d=\"M1006,-83C1006,-83 915,-83 915,-83 909,-83 903,-77 903,-71 903,-71 903,-12 903,-12 903,-6 909,0 915,0 915,0 1006,0 1006,0 1012,0 1018,-6 1018,-12 1018,-12 1018,-71 1018,-71 1018,-77 1012,-83 1006,-83\"/>\n<text text-anchor=\"middle\" x=\"960.5\" y=\"-67.8\" font-family=\"Helvetica,sans-Serif\" font-size=\"14.00\" fill=\"#000000\">node #17</text>\n<text text-anchor=\"middle\" x=\"960.5\" y=\"-52.8\" font-family=\"Helvetica,sans-Serif\" font-size=\"14.00\" fill=\"#000000\">gini = 0.5</text>\n<text text-anchor=\"middle\" x=\"960.5\" y=\"-37.8\" font-family=\"Helvetica,sans-Serif\" font-size=\"14.00\" fill=\"#000000\">samples = 2</text>\n<text text-anchor=\"middle\" x=\"960.5\" y=\"-22.8\" font-family=\"Helvetica,sans-Serif\" font-size=\"14.00\" fill=\"#000000\">value = [1, 1, 0]</text>\n<text text-anchor=\"middle\" x=\"960.5\" y=\"-7.8\" font-family=\"Helvetica,sans-Serif\" font-size=\"14.00\" fill=\"#000000\">class = Normal</text>\n</g>\n<!-- 16&#45;&gt;17 -->\n<g id=\"edge17\" class=\"edge\">\n<title>16&#45;&gt;17</title>\n<path fill=\"none\" stroke=\"#000000\" d=\"M1051.4661,-118.7296C1040.1795,-109.1474 1028.3623,-99.1146 1017.1221,-89.5717\"/>\n<polygon fill=\"#000000\" stroke=\"#000000\" points=\"1019.3346,-86.8589 1009.4462,-83.055 1014.8041,-92.1951 1019.3346,-86.8589\"/>\n</g>\n<!-- 18 -->\n<g id=\"node19\" class=\"node\">\n<title>18</title>\n<path fill=\"#833ce5\" stroke=\"#000000\" d=\"M1170.5,-83C1170.5,-83 1048.5,-83 1048.5,-83 1042.5,-83 1036.5,-77 1036.5,-71 1036.5,-71 1036.5,-12 1036.5,-12 1036.5,-6 1042.5,0 1048.5,0 1048.5,0 1170.5,0 1170.5,0 1176.5,0 1182.5,-6 1182.5,-12 1182.5,-12 1182.5,-71 1182.5,-71 1182.5,-77 1176.5,-83 1170.5,-83\"/>\n<text text-anchor=\"middle\" x=\"1109.5\" y=\"-67.8\" font-family=\"Helvetica,sans-Serif\" font-size=\"14.00\" fill=\"#000000\">node #18</text>\n<text text-anchor=\"middle\" x=\"1109.5\" y=\"-52.8\" font-family=\"Helvetica,sans-Serif\" font-size=\"14.00\" fill=\"#000000\">gini = 0.02666</text>\n<text text-anchor=\"middle\" x=\"1109.5\" y=\"-37.8\" font-family=\"Helvetica,sans-Serif\" font-size=\"14.00\" fill=\"#000000\">samples = 74</text>\n<text text-anchor=\"middle\" x=\"1109.5\" y=\"-22.8\" font-family=\"Helvetica,sans-Serif\" font-size=\"14.00\" fill=\"#000000\">value = [1, 0, 73]</text>\n<text text-anchor=\"middle\" x=\"1109.5\" y=\"-7.8\" font-family=\"Helvetica,sans-Serif\" font-size=\"14.00\" fill=\"#000000\">class = Pathological</text>\n</g>\n<!-- 16&#45;&gt;18 -->\n<g id=\"edge18\" class=\"edge\">\n<title>16&#45;&gt;18</title>\n<path fill=\"none\" stroke=\"#000000\" d=\"M1109.5,-118.7296C1109.5,-110.3452 1109.5,-101.6158 1109.5,-93.1714\"/>\n<polygon fill=\"#000000\" stroke=\"#000000\" points=\"1113.0001,-93.0549 1109.5,-83.055 1106.0001,-93.055 1113.0001,-93.0549\"/>\n</g>\n<!-- 20 -->\n<g id=\"node21\" class=\"node\">\n<title>20</title>\n<path fill=\"#8139e5\" stroke=\"#000000\" d=\"M1334.5,-83C1334.5,-83 1212.5,-83 1212.5,-83 1206.5,-83 1200.5,-77 1200.5,-71 1200.5,-71 1200.5,-12 1200.5,-12 1200.5,-6 1206.5,0 1212.5,0 1212.5,0 1334.5,0 1334.5,0 1340.5,0 1346.5,-6 1346.5,-12 1346.5,-12 1346.5,-71 1346.5,-71 1346.5,-77 1340.5,-83 1334.5,-83\"/>\n<text text-anchor=\"middle\" x=\"1273.5\" y=\"-67.8\" font-family=\"Helvetica,sans-Serif\" font-size=\"14.00\" fill=\"#000000\">node #20</text>\n<text text-anchor=\"middle\" x=\"1273.5\" y=\"-52.8\" font-family=\"Helvetica,sans-Serif\" font-size=\"14.00\" fill=\"#000000\">gini = 0.0</text>\n<text text-anchor=\"middle\" x=\"1273.5\" y=\"-37.8\" font-family=\"Helvetica,sans-Serif\" font-size=\"14.00\" fill=\"#000000\">samples = 1</text>\n<text text-anchor=\"middle\" x=\"1273.5\" y=\"-22.8\" font-family=\"Helvetica,sans-Serif\" font-size=\"14.00\" fill=\"#000000\">value = [0, 0, 1]</text>\n<text text-anchor=\"middle\" x=\"1273.5\" y=\"-7.8\" font-family=\"Helvetica,sans-Serif\" font-size=\"14.00\" fill=\"#000000\">class = Pathological</text>\n</g>\n<!-- 19&#45;&gt;20 -->\n<g id=\"edge20\" class=\"edge\">\n<title>19&#45;&gt;20</title>\n<path fill=\"none\" stroke=\"#000000\" d=\"M1273.5,-118.7296C1273.5,-110.3452 1273.5,-101.6158 1273.5,-93.1714\"/>\n<polygon fill=\"#000000\" stroke=\"#000000\" points=\"1277.0001,-93.0549 1273.5,-83.055 1270.0001,-93.055 1277.0001,-93.0549\"/>\n</g>\n<!-- 21 -->\n<g id=\"node22\" class=\"node\">\n<title>21</title>\n<path fill=\"#e58139\" stroke=\"#000000\" d=\"M1468,-83C1468,-83 1377,-83 1377,-83 1371,-83 1365,-77 1365,-71 1365,-71 1365,-12 1365,-12 1365,-6 1371,0 1377,0 1377,0 1468,0 1468,0 1474,0 1480,-6 1480,-12 1480,-12 1480,-71 1480,-71 1480,-77 1474,-83 1468,-83\"/>\n<text text-anchor=\"middle\" x=\"1422.5\" y=\"-67.8\" font-family=\"Helvetica,sans-Serif\" font-size=\"14.00\" fill=\"#000000\">node #21</text>\n<text text-anchor=\"middle\" x=\"1422.5\" y=\"-52.8\" font-family=\"Helvetica,sans-Serif\" font-size=\"14.00\" fill=\"#000000\">gini = 0.0</text>\n<text text-anchor=\"middle\" x=\"1422.5\" y=\"-37.8\" font-family=\"Helvetica,sans-Serif\" font-size=\"14.00\" fill=\"#000000\">samples = 5</text>\n<text text-anchor=\"middle\" x=\"1422.5\" y=\"-22.8\" font-family=\"Helvetica,sans-Serif\" font-size=\"14.00\" fill=\"#000000\">value = [5, 0, 0]</text>\n<text text-anchor=\"middle\" x=\"1422.5\" y=\"-7.8\" font-family=\"Helvetica,sans-Serif\" font-size=\"14.00\" fill=\"#000000\">class = Normal</text>\n</g>\n<!-- 19&#45;&gt;21 -->\n<g id=\"edge21\" class=\"edge\">\n<title>19&#45;&gt;21</title>\n<path fill=\"none\" stroke=\"#000000\" d=\"M1331.1073,-119.0918C1342.4186,-109.4886 1354.2783,-99.4198 1365.5673,-89.8354\"/>\n<polygon fill=\"#000000\" stroke=\"#000000\" points=\"1367.9199,-92.4294 1373.2779,-83.2892 1363.3895,-87.0932 1367.9199,-92.4294\"/>\n</g>\n<!-- 23 -->\n<g id=\"node24\" class=\"node\">\n<title>23</title>\n<path fill=\"#e78946\" stroke=\"#000000\" d=\"M1706.5,-217C1706.5,-217 1582.5,-217 1582.5,-217 1576.5,-217 1570.5,-211 1570.5,-205 1570.5,-205 1570.5,-131 1570.5,-131 1570.5,-125 1576.5,-119 1582.5,-119 1582.5,-119 1706.5,-119 1706.5,-119 1712.5,-119 1718.5,-125 1718.5,-131 1718.5,-131 1718.5,-205 1718.5,-205 1718.5,-211 1712.5,-217 1706.5,-217\"/>\n<text text-anchor=\"middle\" x=\"1644.5\" y=\"-201.8\" font-family=\"Helvetica,sans-Serif\" font-size=\"14.00\" fill=\"#000000\">node #23</text>\n<text text-anchor=\"middle\" x=\"1644.5\" y=\"-186.8\" font-family=\"Helvetica,sans-Serif\" font-size=\"14.00\" fill=\"#000000\">LB &lt;= 142.5</text>\n<text text-anchor=\"middle\" x=\"1644.5\" y=\"-171.8\" font-family=\"Helvetica,sans-Serif\" font-size=\"14.00\" fill=\"#000000\">gini = 0.11614</text>\n<text text-anchor=\"middle\" x=\"1644.5\" y=\"-156.8\" font-family=\"Helvetica,sans-Serif\" font-size=\"14.00\" fill=\"#000000\">samples = 1235</text>\n<text text-anchor=\"middle\" x=\"1644.5\" y=\"-141.8\" font-family=\"Helvetica,sans-Serif\" font-size=\"14.00\" fill=\"#000000\">value = [1159, 69, 7]</text>\n<text text-anchor=\"middle\" x=\"1644.5\" y=\"-126.8\" font-family=\"Helvetica,sans-Serif\" font-size=\"14.00\" fill=\"#000000\">class = Normal</text>\n</g>\n<!-- 22&#45;&gt;23 -->\n<g id=\"edge23\" class=\"edge\">\n<title>22&#45;&gt;23</title>\n<path fill=\"none\" stroke=\"#000000\" d=\"M1644.5,-252.8642C1644.5,-244.5802 1644.5,-235.903 1644.5,-227.3918\"/>\n<polygon fill=\"#000000\" stroke=\"#000000\" points=\"1648.0001,-227.1298 1644.5,-217.1298 1641.0001,-227.1299 1648.0001,-227.1298\"/>\n</g>\n<!-- 26 -->\n<g id=\"node27\" class=\"node\">\n<title>26</title>\n<path fill=\"#cdb0f5\" stroke=\"#000000\" d=\"M1943.5,-217C1943.5,-217 1821.5,-217 1821.5,-217 1815.5,-217 1809.5,-211 1809.5,-205 1809.5,-205 1809.5,-131 1809.5,-131 1809.5,-125 1815.5,-119 1821.5,-119 1821.5,-119 1943.5,-119 1943.5,-119 1949.5,-119 1955.5,-125 1955.5,-131 1955.5,-131 1955.5,-205 1955.5,-205 1955.5,-211 1949.5,-217 1943.5,-217\"/>\n<text text-anchor=\"middle\" x=\"1882.5\" y=\"-201.8\" font-family=\"Helvetica,sans-Serif\" font-size=\"14.00\" fill=\"#000000\">node #26</text>\n<text text-anchor=\"middle\" x=\"1882.5\" y=\"-186.8\" font-family=\"Helvetica,sans-Serif\" font-size=\"14.00\" fill=\"#000000\">Min &lt;= 63.0</text>\n<text text-anchor=\"middle\" x=\"1882.5\" y=\"-171.8\" font-family=\"Helvetica,sans-Serif\" font-size=\"14.00\" fill=\"#000000\">gini = 0.46875</text>\n<text text-anchor=\"middle\" x=\"1882.5\" y=\"-156.8\" font-family=\"Helvetica,sans-Serif\" font-size=\"14.00\" fill=\"#000000\">samples = 8</text>\n<text text-anchor=\"middle\" x=\"1882.5\" y=\"-141.8\" font-family=\"Helvetica,sans-Serif\" font-size=\"14.00\" fill=\"#000000\">value = [0, 3, 5]</text>\n<text text-anchor=\"middle\" x=\"1882.5\" y=\"-126.8\" font-family=\"Helvetica,sans-Serif\" font-size=\"14.00\" fill=\"#000000\">class = Pathological</text>\n</g>\n<!-- 22&#45;&gt;26 -->\n<g id=\"edge26\" class=\"edge\">\n<title>22&#45;&gt;26</title>\n<path fill=\"none\" stroke=\"#000000\" d=\"M1722.7597,-257.9378C1747.7259,-243.8812 1775.4128,-228.2928 1800.6281,-214.096\"/>\n<polygon fill=\"#000000\" stroke=\"#000000\" points=\"1802.4388,-217.0932 1809.4354,-209.1372 1799.0045,-210.9935 1802.4388,-217.0932\"/>\n</g>\n<!-- 24 -->\n<g id=\"node25\" class=\"node\">\n<title>24</title>\n<path fill=\"#e68540\" stroke=\"#000000\" d=\"M1634.5,-83C1634.5,-83 1510.5,-83 1510.5,-83 1504.5,-83 1498.5,-77 1498.5,-71 1498.5,-71 1498.5,-12 1498.5,-12 1498.5,-6 1504.5,0 1510.5,0 1510.5,0 1634.5,0 1634.5,0 1640.5,0 1646.5,-6 1646.5,-12 1646.5,-12 1646.5,-71 1646.5,-71 1646.5,-77 1640.5,-83 1634.5,-83\"/>\n<text text-anchor=\"middle\" x=\"1572.5\" y=\"-67.8\" font-family=\"Helvetica,sans-Serif\" font-size=\"14.00\" fill=\"#000000\">node #24</text>\n<text text-anchor=\"middle\" x=\"1572.5\" y=\"-52.8\" font-family=\"Helvetica,sans-Serif\" font-size=\"14.00\" fill=\"#000000\">gini = 0.0647</text>\n<text text-anchor=\"middle\" x=\"1572.5\" y=\"-37.8\" font-family=\"Helvetica,sans-Serif\" font-size=\"14.00\" fill=\"#000000\">samples = 1051</text>\n<text text-anchor=\"middle\" x=\"1572.5\" y=\"-22.8\" font-family=\"Helvetica,sans-Serif\" font-size=\"14.00\" fill=\"#000000\">value = [1016, 29, 6]</text>\n<text text-anchor=\"middle\" x=\"1572.5\" y=\"-7.8\" font-family=\"Helvetica,sans-Serif\" font-size=\"14.00\" fill=\"#000000\">class = Normal</text>\n</g>\n<!-- 23&#45;&gt;24 -->\n<g id=\"edge24\" class=\"edge\">\n<title>23&#45;&gt;24</title>\n<path fill=\"none\" stroke=\"#000000\" d=\"M1616.4568,-118.7296C1611.4224,-109.8845 1606.1695,-100.6555 1601.1191,-91.7822\"/>\n<polygon fill=\"#000000\" stroke=\"#000000\" points=\"1604.1403,-90.0145 1596.1518,-83.055 1598.0567,-93.4772 1604.1403,-90.0145\"/>\n</g>\n<!-- 25 -->\n<g id=\"node26\" class=\"node\">\n<title>25</title>\n<path fill=\"#eca571\" stroke=\"#000000\" d=\"M1792.5,-83C1792.5,-83 1676.5,-83 1676.5,-83 1670.5,-83 1664.5,-77 1664.5,-71 1664.5,-71 1664.5,-12 1664.5,-12 1664.5,-6 1670.5,0 1676.5,0 1676.5,0 1792.5,0 1792.5,0 1798.5,0 1804.5,-6 1804.5,-12 1804.5,-12 1804.5,-71 1804.5,-71 1804.5,-77 1798.5,-83 1792.5,-83\"/>\n<text text-anchor=\"middle\" x=\"1734.5\" y=\"-67.8\" font-family=\"Helvetica,sans-Serif\" font-size=\"14.00\" fill=\"#000000\">node #25</text>\n<text text-anchor=\"middle\" x=\"1734.5\" y=\"-52.8\" font-family=\"Helvetica,sans-Serif\" font-size=\"14.00\" fill=\"#000000\">gini = 0.34871</text>\n<text text-anchor=\"middle\" x=\"1734.5\" y=\"-37.8\" font-family=\"Helvetica,sans-Serif\" font-size=\"14.00\" fill=\"#000000\">samples = 184</text>\n<text text-anchor=\"middle\" x=\"1734.5\" y=\"-22.8\" font-family=\"Helvetica,sans-Serif\" font-size=\"14.00\" fill=\"#000000\">value = [143, 40, 1]</text>\n<text text-anchor=\"middle\" x=\"1734.5\" y=\"-7.8\" font-family=\"Helvetica,sans-Serif\" font-size=\"14.00\" fill=\"#000000\">class = Normal</text>\n</g>\n<!-- 23&#45;&gt;25 -->\n<g id=\"edge25\" class=\"edge\">\n<title>23&#45;&gt;25</title>\n<path fill=\"none\" stroke=\"#000000\" d=\"M1679.5541,-118.7296C1685.9781,-109.7002 1692.6868,-100.2707 1699.1203,-91.2281\"/>\n<polygon fill=\"#000000\" stroke=\"#000000\" points=\"1701.9899,-93.2322 1704.9352,-83.055 1696.2861,-89.1742 1701.9899,-93.2322\"/>\n</g>\n<!-- 27 -->\n<g id=\"node28\" class=\"node\">\n<title>27</title>\n<path fill=\"#7beeab\" stroke=\"#000000\" d=\"M1930,-83C1930,-83 1835,-83 1835,-83 1829,-83 1823,-77 1823,-71 1823,-71 1823,-12 1823,-12 1823,-6 1829,0 1835,0 1835,0 1930,0 1930,0 1936,0 1942,-6 1942,-12 1942,-12 1942,-71 1942,-71 1942,-77 1936,-83 1930,-83\"/>\n<text text-anchor=\"middle\" x=\"1882.5\" y=\"-67.8\" font-family=\"Helvetica,sans-Serif\" font-size=\"14.00\" fill=\"#000000\">node #27</text>\n<text text-anchor=\"middle\" x=\"1882.5\" y=\"-52.8\" font-family=\"Helvetica,sans-Serif\" font-size=\"14.00\" fill=\"#000000\">gini = 0.375</text>\n<text text-anchor=\"middle\" x=\"1882.5\" y=\"-37.8\" font-family=\"Helvetica,sans-Serif\" font-size=\"14.00\" fill=\"#000000\">samples = 4</text>\n<text text-anchor=\"middle\" x=\"1882.5\" y=\"-22.8\" font-family=\"Helvetica,sans-Serif\" font-size=\"14.00\" fill=\"#000000\">value = [0, 3, 1]</text>\n<text text-anchor=\"middle\" x=\"1882.5\" y=\"-7.8\" font-family=\"Helvetica,sans-Serif\" font-size=\"14.00\" fill=\"#000000\">class = Suspect</text>\n</g>\n<!-- 26&#45;&gt;27 -->\n<g id=\"edge27\" class=\"edge\">\n<title>26&#45;&gt;27</title>\n<path fill=\"none\" stroke=\"#000000\" d=\"M1882.5,-118.7296C1882.5,-110.3452 1882.5,-101.6158 1882.5,-93.1714\"/>\n<polygon fill=\"#000000\" stroke=\"#000000\" points=\"1886.0001,-93.0549 1882.5,-83.055 1879.0001,-93.055 1886.0001,-93.0549\"/>\n</g>\n<!-- 28 -->\n<g id=\"node29\" class=\"node\">\n<title>28</title>\n<path fill=\"#8139e5\" stroke=\"#000000\" d=\"M2094.5,-83C2094.5,-83 1972.5,-83 1972.5,-83 1966.5,-83 1960.5,-77 1960.5,-71 1960.5,-71 1960.5,-12 1960.5,-12 1960.5,-6 1966.5,0 1972.5,0 1972.5,0 2094.5,0 2094.5,0 2100.5,0 2106.5,-6 2106.5,-12 2106.5,-12 2106.5,-71 2106.5,-71 2106.5,-77 2100.5,-83 2094.5,-83\"/>\n<text text-anchor=\"middle\" x=\"2033.5\" y=\"-67.8\" font-family=\"Helvetica,sans-Serif\" font-size=\"14.00\" fill=\"#000000\">node #28</text>\n<text text-anchor=\"middle\" x=\"2033.5\" y=\"-52.8\" font-family=\"Helvetica,sans-Serif\" font-size=\"14.00\" fill=\"#000000\">gini = 0.0</text>\n<text text-anchor=\"middle\" x=\"2033.5\" y=\"-37.8\" font-family=\"Helvetica,sans-Serif\" font-size=\"14.00\" fill=\"#000000\">samples = 4</text>\n<text text-anchor=\"middle\" x=\"2033.5\" y=\"-22.8\" font-family=\"Helvetica,sans-Serif\" font-size=\"14.00\" fill=\"#000000\">value = [0, 0, 4]</text>\n<text text-anchor=\"middle\" x=\"2033.5\" y=\"-7.8\" font-family=\"Helvetica,sans-Serif\" font-size=\"14.00\" fill=\"#000000\">class = Pathological</text>\n</g>\n<!-- 26&#45;&gt;28 -->\n<g id=\"edge28\" class=\"edge\">\n<title>26&#45;&gt;28</title>\n<path fill=\"none\" stroke=\"#000000\" d=\"M1941.3129,-118.7296C1952.7509,-109.1474 1964.7268,-99.1146 1976.1179,-89.5717\"/>\n<polygon fill=\"#000000\" stroke=\"#000000\" points=\"1978.4789,-92.1597 1983.8968,-83.055 1973.9836,-86.7938 1978.4789,-92.1597\"/>\n</g>\n</g>\n</svg>\n"
          },
          "metadata": {
            "tags": []
          },
          "execution_count": 92
        }
      ]
    },
    {
      "cell_type": "markdown",
      "metadata": {
        "id": "cQnQgLo-oAH1",
        "colab_type": "text"
      },
      "source": [
        "## **Decision Tree with Adaboost**"
      ]
    },
    {
      "cell_type": "code",
      "metadata": {
        "id": "8uSNPaJToVgi",
        "colab_type": "code",
        "colab": {}
      },
      "source": [
        "from sklearn.ensemble import AdaBoostClassifier"
      ],
      "execution_count": null,
      "outputs": []
    },
    {
      "cell_type": "code",
      "metadata": {
        "id": "X2UeWui7m8wo",
        "colab_type": "code",
        "colab": {}
      },
      "source": [
        "CTGDTA = AdaBoostClassifier(DecisionTreeClassifier(criterion='gini', max_depth=6,\n",
        "                                        min_samples_split=2,\n",
        "                                        max_leaf_nodes=5),\n",
        "                                         algorithm=\"SAMME\",\n",
        "                                         n_estimators=100,learning_rate=0.3)"
      ],
      "execution_count": null,
      "outputs": []
    },
    {
      "cell_type": "code",
      "metadata": {
        "id": "ocYuPZRwoRjg",
        "colab_type": "code",
        "colab": {
          "base_uri": "https://localhost:8080/",
          "height": 281
        },
        "outputId": "f7461aac-da52-439d-f631-d190a37bffa1"
      },
      "source": [
        "CTGDTA.fit(x_train,y_train)"
      ],
      "execution_count": null,
      "outputs": [
        {
          "output_type": "execute_result",
          "data": {
            "text/plain": [
              "AdaBoostClassifier(algorithm='SAMME',\n",
              "                   base_estimator=DecisionTreeClassifier(class_weight=None,\n",
              "                                                         criterion='gini',\n",
              "                                                         max_depth=6,\n",
              "                                                         max_features=None,\n",
              "                                                         max_leaf_nodes=5,\n",
              "                                                         min_impurity_decrease=0.0,\n",
              "                                                         min_impurity_split=None,\n",
              "                                                         min_samples_leaf=1,\n",
              "                                                         min_samples_split=2,\n",
              "                                                         min_weight_fraction_leaf=0.0,\n",
              "                                                         presort=False,\n",
              "                                                         random_state=None,\n",
              "                                                         splitter='best'),\n",
              "                   learning_rate=0.3, n_estimators=100, random_state=None)"
            ]
          },
          "metadata": {
            "tags": []
          },
          "execution_count": 95
        }
      ]
    },
    {
      "cell_type": "code",
      "metadata": {
        "id": "caineNutobva",
        "colab_type": "code",
        "colab": {}
      },
      "source": [
        "y_pred=CTGDTA.predict(x_test)"
      ],
      "execution_count": null,
      "outputs": []
    },
    {
      "cell_type": "code",
      "metadata": {
        "id": "f_gYMNXCohW_",
        "colab_type": "code",
        "colab": {
          "base_uri": "https://localhost:8080/",
          "height": 457
        },
        "outputId": "c30ccd48-f6bd-45c9-af7f-af3c6f7ee29b"
      },
      "source": [
        "y_pred"
      ],
      "execution_count": null,
      "outputs": [
        {
          "output_type": "execute_result",
          "data": {
            "text/plain": [
              "array([1, 1, 1, 1, 1, 3, 1, 3, 1, 2, 1, 3, 1, 1, 1, 2, 1, 1, 2, 1, 1, 1,\n",
              "       3, 1, 1, 3, 3, 1, 1, 1, 1, 1, 1, 1, 1, 1, 1, 3, 2, 2, 1, 2, 1, 1,\n",
              "       1, 1, 1, 3, 1, 1, 1, 1, 2, 2, 2, 1, 1, 1, 2, 1, 2, 1, 1, 1, 1, 1,\n",
              "       2, 1, 1, 1, 1, 1, 1, 1, 1, 2, 1, 1, 1, 3, 1, 1, 1, 1, 2, 1, 1, 2,\n",
              "       1, 2, 1, 1, 1, 1, 2, 1, 1, 3, 2, 1, 2, 1, 1, 1, 1, 2, 1, 1, 3, 1,\n",
              "       2, 2, 1, 2, 1, 3, 1, 1, 2, 1, 1, 2, 1, 1, 1, 3, 3, 1, 1, 1, 3, 1,\n",
              "       1, 1, 1, 1, 1, 1, 2, 2, 2, 1, 1, 1, 3, 1, 1, 1, 1, 1, 1, 1, 2, 1,\n",
              "       1, 1, 1, 1, 1, 1, 1, 1, 1, 2, 1, 1, 1, 1, 2, 1, 1, 2, 1, 1, 1, 1,\n",
              "       1, 1, 1, 1, 1, 1, 1, 1, 3, 1, 1, 1, 3, 2, 1, 1, 1, 2, 1, 1, 1, 1,\n",
              "       1, 1, 1, 1, 1, 2, 1, 1, 1, 1, 1, 1, 1, 1, 1, 1, 1, 1, 1, 1, 1, 1,\n",
              "       1, 2, 1, 1, 1, 1, 1, 1, 1, 2, 2, 1, 1, 1, 3, 1, 1, 1, 1, 1, 1, 1,\n",
              "       1, 1, 1, 3, 1, 1, 3, 1, 1, 1, 1, 1, 1, 1, 1, 1, 1, 1, 2, 2, 1, 1,\n",
              "       2, 1, 2, 1, 1, 1, 1, 1, 2, 1, 1, 1, 1, 1, 1, 1, 2, 1, 1, 1, 1, 1,\n",
              "       1, 1, 1, 1, 1, 1, 1, 1, 1, 1, 1, 1, 1, 1, 1, 1, 1, 1, 3, 1, 1, 1,\n",
              "       1, 1, 1, 1, 1, 1, 2, 3, 1, 3, 1, 1, 1, 1, 1, 1, 1, 2, 1, 1, 2, 1,\n",
              "       1, 1, 1, 1, 1, 2, 1, 1, 1, 1, 1, 2, 3, 3, 1, 1, 1, 3, 2, 1, 1, 1,\n",
              "       1, 2, 1, 1, 1, 1, 1, 1, 1, 1, 1, 1, 1, 3, 1, 2, 1, 1, 1, 1, 1, 1,\n",
              "       1, 3, 1, 1, 1, 3, 1, 1, 1, 1, 1, 1, 1, 1, 2, 1, 1, 1, 1, 1, 1, 2,\n",
              "       1, 1, 1, 1, 1, 1, 2, 3, 1, 1, 2, 1, 1, 1, 2, 1, 2, 1, 1, 1, 1, 2,\n",
              "       1, 1, 1, 2, 1, 1, 1, 1, 1, 2, 1, 1, 1, 1, 1, 1, 1, 1, 3, 1, 1, 3,\n",
              "       1, 1, 2, 1, 2, 1, 1, 1, 1, 1, 1, 1, 1, 1, 2, 3, 2, 1, 2, 1, 1, 1,\n",
              "       3, 1, 1, 1, 1, 2, 1, 2, 1, 1, 1, 2, 1, 1, 1, 2, 1, 3, 1, 1, 1, 1,\n",
              "       1, 1, 1, 2, 1, 2, 1, 1, 1, 1, 1, 1, 1, 2, 1, 1, 1, 1, 2, 1, 1, 3,\n",
              "       2, 3, 1, 1, 1, 1, 1, 1, 1, 1, 1, 1, 1, 1, 2, 2, 1, 2, 1, 1, 1, 1,\n",
              "       1, 1, 1, 1])"
            ]
          },
          "metadata": {
            "tags": []
          },
          "execution_count": 97
        }
      ]
    },
    {
      "cell_type": "markdown",
      "metadata": {
        "id": "Hm-rgps9onno",
        "colab_type": "text"
      },
      "source": [
        "**ACCURACY OF DECISION TREE WITH ADABOOST**"
      ]
    },
    {
      "cell_type": "code",
      "metadata": {
        "id": "dlgh6Q2losU1",
        "colab_type": "code",
        "colab": {
          "base_uri": "https://localhost:8080/",
          "height": 34
        },
        "outputId": "379cdb82-ac4a-4859-96c3-48abd3bf7f93"
      },
      "source": [
        "accuracy_score(y_test,y_pred)"
      ],
      "execution_count": null,
      "outputs": [
        {
          "output_type": "execute_result",
          "data": {
            "text/plain": [
              "0.943609022556391"
            ]
          },
          "metadata": {
            "tags": []
          },
          "execution_count": 98
        }
      ]
    },
    {
      "cell_type": "code",
      "metadata": {
        "id": "4RiUayrxt1QI",
        "colab_type": "code",
        "colab": {}
      },
      "source": [
        "scores = cross_val_score(CTGDTA,x_train,y_train,cv = 10)"
      ],
      "execution_count": null,
      "outputs": []
    },
    {
      "cell_type": "code",
      "metadata": {
        "id": "Q_xzPUSqt-Ry",
        "colab_type": "code",
        "colab": {
          "base_uri": "https://localhost:8080/",
          "height": 52
        },
        "outputId": "8aef7b51-3233-4491-a146-41d307e5a3e0"
      },
      "source": [
        "print(scores)"
      ],
      "execution_count": null,
      "outputs": [
        {
          "output_type": "stream",
          "text": [
            "[0.94409938 0.9378882  0.9375     0.89937107 0.91823899 0.9245283\n",
            " 0.94968553 0.91823899 0.94968553 0.93037975]\n"
          ],
          "name": "stdout"
        }
      ]
    },
    {
      "cell_type": "code",
      "metadata": {
        "id": "uDgVKYLfuCUr",
        "colab_type": "code",
        "colab": {
          "base_uri": "https://localhost:8080/",
          "height": 34
        },
        "outputId": "8cb7a2b6-763f-4f8b-f1d6-51638a7763ab"
      },
      "source": [
        "print(scores.mean())"
      ],
      "execution_count": null,
      "outputs": [
        {
          "output_type": "stream",
          "text": [
            "0.930961575214815\n"
          ],
          "name": "stdout"
        }
      ]
    },
    {
      "cell_type": "code",
      "metadata": {
        "id": "vbDV32kwuE8J",
        "colab_type": "code",
        "colab": {
          "base_uri": "https://localhost:8080/",
          "height": 34
        },
        "outputId": "15c08b47-5d5b-4b9d-c970-dc3b6ff709c0"
      },
      "source": [
        "print(scores.std())"
      ],
      "execution_count": null,
      "outputs": [
        {
          "output_type": "stream",
          "text": [
            "0.015257516405529343\n"
          ],
          "name": "stdout"
        }
      ]
    },
    {
      "cell_type": "code",
      "metadata": {
        "id": "vpYJ4b1aowOl",
        "colab_type": "code",
        "colab": {
          "base_uri": "https://localhost:8080/",
          "height": 210
        },
        "outputId": "5dca9e3f-5e5c-4bfe-8247-26269f693524"
      },
      "source": [
        "print(\"CLASSIFICATION REPORT \\n\",classification_report(y_pred,y_test))"
      ],
      "execution_count": null,
      "outputs": [
        {
          "output_type": "stream",
          "text": [
            "CLASSIFICATION REPORT \n",
            "               precision    recall  f1-score   support\n",
            "\n",
            "           1       0.97      0.96      0.97       416\n",
            "           2       0.82      0.86      0.84        78\n",
            "           3       0.95      0.92      0.93        38\n",
            "\n",
            "    accuracy                           0.94       532\n",
            "   macro avg       0.91      0.91      0.91       532\n",
            "weighted avg       0.94      0.94      0.94       532\n",
            "\n"
          ],
          "name": "stdout"
        }
      ]
    },
    {
      "cell_type": "markdown",
      "metadata": {
        "id": "P_AZ-kQKo94H",
        "colab_type": "text"
      },
      "source": [
        "Confusion Matrix for Decision Tree with Adaboost"
      ]
    },
    {
      "cell_type": "code",
      "metadata": {
        "id": "nWWamE4So10O",
        "colab_type": "code",
        "colab": {
          "base_uri": "https://localhost:8080/",
          "height": 472
        },
        "outputId": "6bd07486-0a2e-42c6-cb1e-e2909dceca4b"
      },
      "source": [
        "conf = confusion_matrix(y_test, y_pred)\n",
        "label = [\"Normal\",\"Suspect\",\"Pathological\"]\n",
        "fig, ax = plt.subplots(figsize=(8,8))\n",
        "sns.heatmap(conf, annot=True, xticklabels=label, yticklabels=label, vmin=0, vmax=1655, linewidths=2, square=True, ax=ax )\n",
        "plt.show()"
      ],
      "execution_count": null,
      "outputs": [
        {
          "output_type": "display_data",
          "data": {
            "image/png": "[encoded data removed]",
            "text/plain": [
              "<Figure size 576x576 with 2 Axes>"
            ]
          },
          "metadata": {
            "tags": []
          }
        }
      ]
    },
    {
      "cell_type": "markdown",
      "metadata": {
        "id": "yFNyoTlkpLJH",
        "colab_type": "text"
      },
      "source": [
        "## **SVM Algorithm**"
      ]
    },
    {
      "cell_type": "code",
      "metadata": {
        "id": "l_O92EOqpF8z",
        "colab_type": "code",
        "colab": {}
      },
      "source": [
        "from sklearn import svm"
      ],
      "execution_count": null,
      "outputs": []
    },
    {
      "cell_type": "code",
      "metadata": {
        "id": "o-yfSNzYpScF",
        "colab_type": "code",
        "colab": {}
      },
      "source": [
        "x_train, x_test, y_train, y_test = train_test_split(X, y, test_size=0.25, random_state=42)"
      ],
      "execution_count": null,
      "outputs": []
    },
    {
      "cell_type": "code",
      "metadata": {
        "id": "OLIK8TrFpUR0",
        "colab_type": "code",
        "colab": {}
      },
      "source": [
        "CTGSUP = svm.LinearSVC(random_state=20)"
      ],
      "execution_count": null,
      "outputs": []
    },
    {
      "cell_type": "code",
      "metadata": {
        "id": "F35mIRUopaLl",
        "colab_type": "code",
        "colab": {}
      },
      "source": [
        "CTGSUP.fit(x_train, y_train)\n",
        "CTGPRED= CTGSUP.predict(x_test)\n",
        "score=accuracy_score(y_test,CTGPRED)"
      ],
      "execution_count": null,
      "outputs": []
    },
    {
      "cell_type": "markdown",
      "metadata": {
        "id": "tNUn7v2_ptHm",
        "colab_type": "text"
      },
      "source": [
        "**ACCURACY OF SVM**"
      ]
    },
    {
      "cell_type": "code",
      "metadata": {
        "id": "sH1x0PAGpqfJ",
        "colab_type": "code",
        "colab": {
          "base_uri": "https://localhost:8080/",
          "height": 34
        },
        "outputId": "adab258e-8326-4cc4-a642-6d497c6d5dd1"
      },
      "source": [
        "print(\"Your Model Accuracy is\", score)"
      ],
      "execution_count": null,
      "outputs": [
        {
          "output_type": "stream",
          "text": [
            "Your Model Accuracy is 0.881578947368421\n"
          ],
          "name": "stdout"
        }
      ]
    },
    {
      "cell_type": "code",
      "metadata": {
        "id": "aZk2pA8BpxBq",
        "colab_type": "code",
        "colab": {}
      },
      "source": [
        "scores = cross_val_score(CTGSUP,x_train,y_train,cv = 10)"
      ],
      "execution_count": null,
      "outputs": []
    },
    {
      "cell_type": "code",
      "metadata": {
        "id": "NMTt-QkWuKt-",
        "colab_type": "code",
        "colab": {
          "base_uri": "https://localhost:8080/",
          "height": 52
        },
        "outputId": "04077d79-e3e3-4fbc-986d-ce157ab66876"
      },
      "source": [
        "print(scores)"
      ],
      "execution_count": null,
      "outputs": [
        {
          "output_type": "stream",
          "text": [
            "[0.86956522 0.8447205  0.825      0.86792453 0.8427673  0.85534591\n",
            " 0.83647799 0.8490566  0.86163522 0.84177215]\n"
          ],
          "name": "stdout"
        }
      ]
    },
    {
      "cell_type": "code",
      "metadata": {
        "id": "0IccjGtZuOJi",
        "colab_type": "code",
        "colab": {
          "base_uri": "https://localhost:8080/",
          "height": 34
        },
        "outputId": "b48fb1a2-da02-4ce5-dde3-ab00137f08ad"
      },
      "source": [
        "print(scores.mean())"
      ],
      "execution_count": null,
      "outputs": [
        {
          "output_type": "stream",
          "text": [
            "0.8494265413354259\n"
          ],
          "name": "stdout"
        }
      ]
    },
    {
      "cell_type": "code",
      "metadata": {
        "id": "gQR72izxuQE2",
        "colab_type": "code",
        "colab": {
          "base_uri": "https://localhost:8080/",
          "height": 34
        },
        "outputId": "2de413ce-1fd9-4cfd-c7cf-580d9de6ca50"
      },
      "source": [
        "print(scores.std())"
      ],
      "execution_count": null,
      "outputs": [
        {
          "output_type": "stream",
          "text": [
            "0.013495823394567527\n"
          ],
          "name": "stdout"
        }
      ]
    },
    {
      "cell_type": "markdown",
      "metadata": {
        "id": "WGtSBlILB2NG",
        "colab_type": "text"
      },
      "source": [
        "## **Feature Reduction on Decision Tree with Adaboost**"
      ]
    },
    {
      "cell_type": "markdown",
      "metadata": {
        "id": "hiFVR3dKCDLV",
        "colab_type": "text"
      },
      "source": [
        "**Greedy Stepwise Feature Reduction Algo**"
      ]
    },
    {
      "cell_type": "code",
      "metadata": {
        "id": "8t_ntCUtCf3m",
        "colab_type": "code",
        "colab": {}
      },
      "source": [
        "ctgdatags =  pd.read_csv('best_fit_CTG_Data.csv')"
      ],
      "execution_count": null,
      "outputs": []
    },
    {
      "cell_type": "code",
      "metadata": {
        "id": "xkL5B7dvC4pO",
        "colab_type": "code",
        "colab": {
          "base_uri": "https://localhost:8080/",
          "height": 402
        },
        "outputId": "44d4e839-d560-4061-efb0-3fcc15ca2459"
      },
      "source": [
        "ctgdatags"
      ],
      "execution_count": null,
      "outputs": [
        {
          "output_type": "execute_result",
          "data": {
            "text/html": [
              "<div>\n",
              "<style scoped>\n",
              "    .dataframe tbody tr th:only-of-type {\n",
              "        vertical-align: middle;\n",
              "    }\n",
              "\n",
              "    .dataframe tbody tr th {\n",
              "        vertical-align: top;\n",
              "    }\n",
              "\n",
              "    .dataframe thead th {\n",
              "        text-align: right;\n",
              "    }\n",
              "</style>\n",
              "<table border=\"1\" class=\"dataframe\">\n",
              "  <thead>\n",
              "    <tr style=\"text-align: right;\">\n",
              "      <th></th>\n",
              "      <th>AC</th>\n",
              "      <th>DS</th>\n",
              "      <th>DP</th>\n",
              "      <th>ASTV</th>\n",
              "      <th>NSP</th>\n",
              "    </tr>\n",
              "  </thead>\n",
              "  <tbody>\n",
              "    <tr>\n",
              "      <th>0</th>\n",
              "      <td>0</td>\n",
              "      <td>0</td>\n",
              "      <td>0</td>\n",
              "      <td>73</td>\n",
              "      <td>2</td>\n",
              "    </tr>\n",
              "    <tr>\n",
              "      <th>1</th>\n",
              "      <td>4</td>\n",
              "      <td>0</td>\n",
              "      <td>0</td>\n",
              "      <td>17</td>\n",
              "      <td>1</td>\n",
              "    </tr>\n",
              "    <tr>\n",
              "      <th>2</th>\n",
              "      <td>2</td>\n",
              "      <td>0</td>\n",
              "      <td>0</td>\n",
              "      <td>16</td>\n",
              "      <td>1</td>\n",
              "    </tr>\n",
              "    <tr>\n",
              "      <th>3</th>\n",
              "      <td>2</td>\n",
              "      <td>0</td>\n",
              "      <td>0</td>\n",
              "      <td>16</td>\n",
              "      <td>1</td>\n",
              "    </tr>\n",
              "    <tr>\n",
              "      <th>4</th>\n",
              "      <td>4</td>\n",
              "      <td>0</td>\n",
              "      <td>0</td>\n",
              "      <td>16</td>\n",
              "      <td>1</td>\n",
              "    </tr>\n",
              "    <tr>\n",
              "      <th>...</th>\n",
              "      <td>...</td>\n",
              "      <td>...</td>\n",
              "      <td>...</td>\n",
              "      <td>...</td>\n",
              "      <td>...</td>\n",
              "    </tr>\n",
              "    <tr>\n",
              "      <th>2121</th>\n",
              "      <td>0</td>\n",
              "      <td>0</td>\n",
              "      <td>0</td>\n",
              "      <td>79</td>\n",
              "      <td>2</td>\n",
              "    </tr>\n",
              "    <tr>\n",
              "      <th>2122</th>\n",
              "      <td>1</td>\n",
              "      <td>0</td>\n",
              "      <td>0</td>\n",
              "      <td>78</td>\n",
              "      <td>2</td>\n",
              "    </tr>\n",
              "    <tr>\n",
              "      <th>2123</th>\n",
              "      <td>1</td>\n",
              "      <td>0</td>\n",
              "      <td>0</td>\n",
              "      <td>79</td>\n",
              "      <td>2</td>\n",
              "    </tr>\n",
              "    <tr>\n",
              "      <th>2124</th>\n",
              "      <td>1</td>\n",
              "      <td>0</td>\n",
              "      <td>0</td>\n",
              "      <td>78</td>\n",
              "      <td>2</td>\n",
              "    </tr>\n",
              "    <tr>\n",
              "      <th>2125</th>\n",
              "      <td>1</td>\n",
              "      <td>0</td>\n",
              "      <td>0</td>\n",
              "      <td>74</td>\n",
              "      <td>1</td>\n",
              "    </tr>\n",
              "  </tbody>\n",
              "</table>\n",
              "<p>2126 rows × 5 columns</p>\n",
              "</div>"
            ],
            "text/plain": [
              "      AC  DS  DP  ASTV  NSP\n",
              "0      0   0   0    73    2\n",
              "1      4   0   0    17    1\n",
              "2      2   0   0    16    1\n",
              "3      2   0   0    16    1\n",
              "4      4   0   0    16    1\n",
              "...   ..  ..  ..   ...  ...\n",
              "2121   0   0   0    79    2\n",
              "2122   1   0   0    78    2\n",
              "2123   1   0   0    79    2\n",
              "2124   1   0   0    78    2\n",
              "2125   1   0   0    74    1\n",
              "\n",
              "[2126 rows x 5 columns]"
            ]
          },
          "metadata": {
            "tags": []
          },
          "execution_count": 115
        }
      ]
    },
    {
      "cell_type": "code",
      "metadata": {
        "id": "B6pQ4tFUDIbO",
        "colab_type": "code",
        "colab": {}
      },
      "source": [
        "X = ctgdatags.drop(['NSP'],axis =1)\n",
        "y = ctgdatags['NSP'].values"
      ],
      "execution_count": null,
      "outputs": []
    },
    {
      "cell_type": "code",
      "metadata": {
        "id": "_iSj7SQqCXM6",
        "colab_type": "code",
        "colab": {}
      },
      "source": [
        "x_train, x_test, y_train, y_test = train_test_split(X, y, test_size=0.25, random_state=42)"
      ],
      "execution_count": null,
      "outputs": []
    },
    {
      "cell_type": "code",
      "metadata": {
        "id": "p_1C-0gFCdKr",
        "colab_type": "code",
        "colab": {}
      },
      "source": [
        "CTGDTA = AdaBoostClassifier(DecisionTreeClassifier(criterion='gini', max_depth=6,\n",
        "                                        min_samples_split=2,\n",
        "                                        max_leaf_nodes=5),\n",
        "                                         algorithm=\"SAMME\",\n",
        "                                         n_estimators=100,learning_rate=0.3)"
      ],
      "execution_count": null,
      "outputs": []
    },
    {
      "cell_type": "code",
      "metadata": {
        "id": "tJZu1LzTDUG4",
        "colab_type": "code",
        "colab": {
          "base_uri": "https://localhost:8080/",
          "height": 281
        },
        "outputId": "ef03fb2b-9a3f-435f-b7f6-bc028df47ef5"
      },
      "source": [
        "CTGDTA.fit(x_train,y_train)"
      ],
      "execution_count": null,
      "outputs": [
        {
          "output_type": "execute_result",
          "data": {
            "text/plain": [
              "AdaBoostClassifier(algorithm='SAMME',\n",
              "                   base_estimator=DecisionTreeClassifier(class_weight=None,\n",
              "                                                         criterion='gini',\n",
              "                                                         max_depth=6,\n",
              "                                                         max_features=None,\n",
              "                                                         max_leaf_nodes=5,\n",
              "                                                         min_impurity_decrease=0.0,\n",
              "                                                         min_impurity_split=None,\n",
              "                                                         min_samples_leaf=1,\n",
              "                                                         min_samples_split=2,\n",
              "                                                         min_weight_fraction_leaf=0.0,\n",
              "                                                         presort=False,\n",
              "                                                         random_state=None,\n",
              "                                                         splitter='best'),\n",
              "                   learning_rate=0.3, n_estimators=100, random_state=None)"
            ]
          },
          "metadata": {
            "tags": []
          },
          "execution_count": 119
        }
      ]
    },
    {
      "cell_type": "code",
      "metadata": {
        "id": "5NNDbjVZDXBv",
        "colab_type": "code",
        "colab": {
          "base_uri": "https://localhost:8080/",
          "height": 34
        },
        "outputId": "baa72f79-4797-41fa-828a-df9e2ca9ac40"
      },
      "source": [
        "CTGDTA.score(x_test,y_test)"
      ],
      "execution_count": null,
      "outputs": [
        {
          "output_type": "execute_result",
          "data": {
            "text/plain": [
              "0.868421052631579"
            ]
          },
          "metadata": {
            "tags": []
          },
          "execution_count": 120
        }
      ]
    },
    {
      "cell_type": "markdown",
      "metadata": {
        "id": "2cEFz0opuX-K",
        "colab_type": "text"
      },
      "source": [
        "# ***FINISH***"
      ]
    }
  ]
}
